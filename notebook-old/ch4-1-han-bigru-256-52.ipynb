{
 "cells": [
  {
   "cell_type": "markdown",
   "metadata": {},
   "source": [
    "分层的双端 GRU 模型。title部分不变，content部分使用分层。每部分取长度为 52。只用一层的 bigru.\n",
    "\n",
    "两部分的输出用 fc+bn 层拼接。"
   ]
  },
  {
   "cell_type": "code",
   "execution_count": 1,
   "metadata": {
    "collapsed": false,
    "scrolled": false
   },
   "outputs": [
    {
     "name": "stdout",
     "output_type": "stream",
     "text": [
      "Starting ...\n",
      "Prepared, costed time 0.0133879 s.\n"
     ]
    }
   ],
   "source": [
    "import numpy as np\n",
    "import pandas as pd\n",
    "import matplotlib.pyplot as plt \n",
    "import pickle\n",
    "import os\n",
    "import sys\n",
    "import shutil\n",
    "import time\n",
    "\n",
    "time0 = time.time()\n",
    "print('Starting ...')\n",
    "model_name = 'ch4-1-han-bigru-256-52'                    # 模型名称\n",
    "W_embedding = np.load('/home1/huangyongye/mygithub/zhihu/data/ch_W_embedding.npy').astype(np.float32)            # 导入预训练好的词向量\n",
    "model_path = '../ckpt/' + model_name + '/'                  # 模型保存位置\n",
    "summary_path = '../summary/' + model_name + '/'             # summary 位置\n",
    "result_path = '../result/' + model_name + '.csv'            # result.csv 位置\n",
    "scores_path = '../scores/' + model_name + '.npy'            # scores.npy 位置\n",
    "save_path = '../data/'\n",
    "\n",
    "if not os.path.exists(model_path):\n",
    "    os.makedirs(model_path)         \n",
    "model_path = model_path + 'model.ckpt'\n",
    "if os.path.exists(summary_path):   # 删除原来的 summary 文件，避免重合\n",
    "    shutil.rmtree(summary_path)\n",
    "os.makedirs(summary_path)          # 然后再次创建\n",
    "\n",
    "# ##################### config ######################\n",
    "title_len = n_step1 = 52                  # title 长度\n",
    "# content 部分 han-bigru-512\n",
    "doc_len = 10                   # 每个文档的句子数\n",
    "sent_len = 52                 # 每个句子的词数\n",
    "# 其他参数\n",
    "input_size = embedding_size = 256       # 字向量长度\n",
    "n_class = 1999\n",
    "hidden_size = 256    # 隐含层节点数\n",
    "fc_hidden_size = 1024                   # fc 层节点数\n",
    "title_attention_size = sent_attention_size = doc_attention_size = hidden_size * 2\n",
    "n_layer = 1        # bi-gru 层数\n",
    "max_grad_norm = 1.0  # 最大梯度（超过此值的梯度将被裁剪）\n",
    "global_step = 0\n",
    "valid_num = 100000\n",
    "seed_num = 13\n",
    "te_batch_size = 128 \n",
    "tr_batch_size = 128 \n",
    "print('Prepared, costed time %g s.' % (time.time() - time0))"
   ]
  },
  {
   "cell_type": "code",
   "execution_count": 2,
   "metadata": {
    "collapsed": false,
    "scrolled": false
   },
   "outputs": [
    {
     "name": "stdout",
     "output_type": "stream",
     "text": [
      "Building model ...\n",
      "Finished creating the han-bi-gru model.\n"
     ]
    }
   ],
   "source": [
    "import tensorflow as tf\n",
    "config = tf.ConfigProto()\n",
    "config.gpu_options.allow_growth = True\n",
    "sess = tf.Session(config=config)\n",
    "from tensorflow.contrib import rnn\n",
    "import tensorflow.contrib.layers as layers\n",
    "\n",
    "'''\n",
    "HAN 模型，知乎问题多标签分类。\n",
    "'''\n",
    "\n",
    "print('Building model ...')\n",
    "keep_prob = tf.placeholder(tf.float32, [])\n",
    "batch_size = tf.placeholder(tf.int32, [])  # 注意类型必须为 tf.int32\n",
    "tst = tf.placeholder(tf.bool)\n",
    "n_updates = tf.placeholder(tf.int32)      # training iteration,传入 bn 层\n",
    "update_emas = list()   # BN 层中所有的更新操作\n",
    "\n",
    "\n",
    "def weight_variable(shape, name):\n",
    "    \"\"\"Create a weight variable with appropriate initialization.\"\"\"\n",
    "    initial = tf.truncated_normal(shape, stddev=0.1)\n",
    "    return tf.Variable(initial, name=name)\n",
    "\n",
    "def bias_variable(shape, name):\n",
    "    \"\"\"Create a bias variable with appropriate initialization.\"\"\"\n",
    "    initial = tf.constant(0.1, shape=shape)\n",
    "    return tf.Variable(initial, name=name)\n",
    "\n",
    "def batchnorm(Ylogits, is_test, num_updates, offset, convolutional=False):\n",
    "    \"\"\"batchnormalization.\n",
    "    Args:\n",
    "        Ylogits: 1D向量或者是3D的卷积结果。\n",
    "        num_updates: 迭代的global_step\n",
    "        offset：表示beta，全局均值；在 RELU 激活中一般初始化为 0.1。\n",
    "        scale：表示lambda，全局方差；在 sigmoid 激活中需要，这 RELU 激活中作用不大。\n",
    "        m: 表示batch均值；v:表示batch方差。\n",
    "        bnepsilon：一个很小的浮点数，防止除以 0.\n",
    "    Returns:\n",
    "        Ybn: 和 Ylogits 的维度一样，就是经过 Batch Normalization 处理的结果。\n",
    "        update_moving_everages：更新mean和variance，主要是给最后的 test 使用。\n",
    "    \"\"\"\n",
    "    exp_moving_avg = tf.train.ExponentialMovingAverage(0.999, num_updates) # adding the iteration prevents from averaging across non-existing iterations\n",
    "    bnepsilon = 1e-5\n",
    "    if convolutional:\n",
    "        mean, variance = tf.nn.moments(Ylogits, [0, 1, 2])\n",
    "    else:\n",
    "        mean, variance = tf.nn.moments(Ylogits, [0])\n",
    "    update_moving_everages = exp_moving_avg.apply([mean, variance])\n",
    "    m = tf.cond(is_test, lambda: exp_moving_avg.average(mean), lambda: mean)\n",
    "    v = tf.cond(is_test, lambda: exp_moving_avg.average(variance), lambda: variance)\n",
    "    Ybn = tf.nn.batch_normalization(Ylogits, m, v, offset, None, bnepsilon)\n",
    "    return Ybn, update_moving_everages\n",
    "\n",
    "def gru_cell():\n",
    "    with tf.variable_scope('gru_cell'):\n",
    "        cell = rnn.GRUCell(hidden_size, reuse=tf.get_variable_scope().reuse)\n",
    "    return rnn.DropoutWrapper(cell, output_keep_prob=keep_prob)\n",
    "  \n",
    "def bi_gru(inputs, seg_num=batch_size):\n",
    "    \"\"\"build the bi-GRU network. Return the encoder represented vector.\n",
    "    n_step: 句子的词数量；或者文档的句子数。\n",
    "    seg_num: 序列的数量，原本应该为 batch_size, 但是这里将 batch_size 个 doc展开成很多个句子。\n",
    "    \"\"\"\n",
    "    cells_fw = [gru_cell() for _ in range(n_layer)]\n",
    "    cells_bw = [gru_cell() for _ in range(n_layer)]\n",
    "    initial_states_fw = [cell_fw.zero_state(seg_num, tf.float32) for cell_fw in cells_fw]\n",
    "    initial_states_bw = [cell_bw.zero_state(seg_num, tf.float32) for cell_bw in cells_bw] \n",
    "    outputs, _, _ = rnn.stack_bidirectional_dynamic_rnn(cells_fw, cells_bw, inputs, \n",
    "                        initial_states_fw = initial_states_fw, initial_states_bw = initial_states_bw, dtype=tf.float32)\n",
    "    # outputs: Output Tensor shaped: seg_num, max_time, layers_output]，其中layers_output=hidden_size * 2 在这里。\n",
    "    return outputs\n",
    "    \n",
    "    \n",
    "def task_specific_attention(inputs, output_size,\n",
    "                            initializer=layers.xavier_initializer(),\n",
    "                            activation_fn=tf.tanh, scope=None):\n",
    "    \"\"\"\n",
    "    Performs task-specific attention reduction, using learned\n",
    "    attention context vector (constant within task of interest).\n",
    "    Args:\n",
    "        inputs: Tensor of shape [batch_size, units, input_size]\n",
    "            `input_size` must be static (known)\n",
    "            `units` axis will be attended over (reduced from output)\n",
    "            `batch_size` will be preserved\n",
    "        output_size: Size of output's inner (feature) dimension\n",
    "    Returns:\n",
    "        outputs: Tensor of shape [batch_size, output_dim].\n",
    "    \"\"\"\n",
    "    assert len(inputs.get_shape()) == 3 and inputs.get_shape()[-1].value is not None\n",
    "    with tf.variable_scope(scope or 'attention') as scope:\n",
    "        # u_w, attention 向量\n",
    "        attention_context_vector = tf.get_variable(name='attention_context_vector',\n",
    "                                                   shape=[output_size],\n",
    "                                                   initializer=initializer,\n",
    "                                                   dtype=tf.float32)\n",
    "        # 全连接层，把 h_i 转为 u_i ， shape= [batch_size, units, input_size] -> [batch_size, units, output_size]\n",
    "        input_projection = layers.fully_connected(inputs, output_size,\n",
    "                                                  activation_fn=activation_fn,\n",
    "                                                  scope=scope)\n",
    "        # 输出 [batch_size, units]\n",
    "        vector_attn = tf.reduce_sum(tf.multiply(input_projection, attention_context_vector), axis=2, keep_dims=True)\n",
    "        attention_weights = tf.nn.softmax(vector_attn, dim=1)   \n",
    "        tf.summary.histogram('attention_weigths', attention_weights)\n",
    "        weighted_projection = tf.multiply(inputs, attention_weights)   # ???源代码,原文应该是对 hi 加权！！\n",
    "        outputs = tf.reduce_sum(weighted_projection, axis=1)\n",
    "        return outputs  # 输出 [batch_size, units]\n",
    "\n",
    "\n",
    "with tf.name_scope('Inputs'):\n",
    "    X1_inputs = tf.placeholder(tf.int64, [None, title_len], name='X1_inputs')\n",
    "    X2_inputs = tf.placeholder(tf.int64, [None, doc_len*sent_len], name='X2_inputs')\n",
    "    y_inputs = tf.placeholder(tf.float32, [None, n_class], name='y_input')    \n",
    "\n",
    "with tf.name_scope('embedding'):\n",
    "    embedding = tf.get_variable(name='embedding', shape=W_embedding.shape, \n",
    "                                initializer=tf.constant_initializer(W_embedding), trainable=True)   # fine-tune\n",
    "    \n",
    "def bigru_reference(X_inputs):\n",
    "    \"\"\"双端 gru 模型。title部分。\n",
    "    Args: \n",
    "        X_inputs: tensor.shape=(batch_size, title_len)\n",
    "    Returns:\n",
    "        title_outputs: tensor.shape=(batch_size, hidden_size(*2 for bigru))\n",
    "    \"\"\"\n",
    "    inputs = tf.nn.embedding_lookup(embedding, X_inputs)\n",
    "    with tf.variable_scope('title_encoder'):  # 生成 title 的向量表示\n",
    "        title_outputs = bi_gru(inputs)\n",
    "        title_attn_outputs = task_specific_attention(title_outputs, title_attention_size)   \n",
    "    return title_attn_outputs   # shape = [batch_size, hidden_size*2]\n",
    "    \n",
    "def han_reference(X_inputs):\n",
    "    \"\"\"分层 attention 模型。content部分。\n",
    "    Args: \n",
    "        X_inputs: tensor.shape=(batch_size, doc_len*sent_len)\n",
    "    Returns:\n",
    "        doc_attn_outputs: tensor.shape=(batch_size, hidden_size(*2 for bigru))\n",
    "    \"\"\"\n",
    "    inputs = tf.nn.embedding_lookup(embedding, X_inputs)    # inputs.shape=[batch_size, doc_len*sent_len, embedding_size]\n",
    "    sent_inputs = tf.reshape(inputs,[batch_size*doc_len, sent_len, embedding_size]) # shape=(?, 40, 256)\n",
    "    with tf.variable_scope('sentence_encoder'):  # 生成句向量\n",
    "        sent_outputs = bi_gru(sent_inputs, seg_num=batch_size*doc_len)\n",
    "        sent_attn_outputs = task_specific_attention(sent_outputs, sent_attention_size) # [batch_size*doc_len, hidden_size*2]\n",
    "        with tf.variable_scope('dropout'):\n",
    "            sent_attn_outputs = tf.nn.dropout(sent_attn_outputs, keep_prob)\n",
    "    with tf.variable_scope('doc_encoder'):  # 生成句向量\n",
    "        doc_inputs = tf.reshape(sent_attn_outputs, [batch_size, doc_len, hidden_size*2])\n",
    "        doc_outputs = bi_gru(doc_inputs)  # [batch_size, doc_len, hidden_size*2]\n",
    "        doc_attn_outputs = task_specific_attention(doc_outputs, doc_attention_size) # [batch_size, hidden_size*2]\n",
    "    return doc_attn_outputs    # [batch_size, hidden_size*2]\n",
    "        \n",
    "\n",
    "with tf.name_scope('title_bigru'):\n",
    "    output_title = bigru_reference(X1_inputs)\n",
    "with tf.name_scope('content_han'):\n",
    "    output_content = han_reference(X2_inputs)   \n",
    "    \n",
    "with tf.name_scope('fc-bn-layer'):\n",
    "    output = tf.concat([output_title, output_content], axis=1)\n",
    "    W_fc = weight_variable([hidden_size*4, fc_hidden_size], name='Weight_fc')\n",
    "    tf.summary.histogram('W_fc', W_fc)\n",
    "    h_fc = tf.matmul(output, W_fc, name='h_fc')\n",
    "    beta_fc = tf.Variable(tf.constant(0.1, tf.float32, shape=[fc_hidden_size], name=\"beta_fc\"))\n",
    "    tf.summary.histogram('beta_fc', beta_fc)\n",
    "    fc_bn, update_ema_fc = batchnorm(h_fc, tst, n_updates, beta_fc, convolutional=False)\n",
    "    update_emas.append(update_ema_fc)\n",
    "    fc_bn_relu = tf.nn.relu(fc_bn, name=\"relu\")\n",
    "#     fc_bn_drop = tf.nn.dropout(fc_bn_relu, keep_prob)   # 不加 dropout\n",
    "    \n",
    "with tf.name_scope('out_layer'):\n",
    "    W_out = weight_variable([fc_hidden_size, n_class], name='Weight_out') \n",
    "    tf.summary.histogram('Weight_out', W_out)\n",
    "    b_out = bias_variable([n_class], name='bias_out') \n",
    "    tf.summary.histogram('bias_out', b_out)\n",
    "    y_pred = tf.nn.xw_plus_b(fc_bn_relu, W_out, b_out, name='y_pred')  #每个类别的分数 scores\n",
    "    \n",
    "with tf.name_scope('cost'):\n",
    "    cost = tf.reduce_mean(tf.nn.sigmoid_cross_entropy_with_logits(logits=y_pred, labels=y_inputs))\n",
    "    tf.summary.scalar('cost', cost)\n",
    "    \n",
    "#  ------------- 优化器设置 ---------------------\n",
    "global_step = tf.Variable(0, trainable=False, name='Global_Step')\n",
    "starter_learning_rate = 1.5e-3\n",
    "decay_step = 10000\n",
    "# decay_step = 25  # 测试用\n",
    "decay = 0.85 \n",
    "learning_rate = tf.train.exponential_decay(starter_learning_rate, global_step, decay_step, decay, staircase=False)\n",
    "\n",
    "# ***** 优化求解 *******\n",
    "with tf.name_scope('AdamOptimizer1'):\n",
    "    tvars1 = tf.trainable_variables()\n",
    "    grads1, _ = tf.clip_by_global_norm(tf.gradients(cost, tvars1), max_grad_norm)\n",
    "    optimizer1 = tf.train.AdamOptimizer(learning_rate=learning_rate)\n",
    "    train_op1 = optimizer1.apply_gradients(zip(grads1, tvars1), global_step=global_step)\n",
    "    \n",
    "with tf.name_scope('AdamOptimizer2'):\n",
    "    tvars2 = [tvar for tvar in tvars1 if 'embedding' not in tvar.name]\n",
    "    grads2, _ = tf.clip_by_global_norm(tf.gradients(cost, tvars2), max_grad_norm)\n",
    "    optimizer2 = tf.train.AdamOptimizer(learning_rate=learning_rate)\n",
    "    train_op2 = optimizer2.apply_gradients(zip(grads2, tvars2), global_step=global_step)\n",
    "update_op = tf.group(*update_emas)   # 更新 BN 参数\n",
    "\n",
    "\n",
    "merged = tf.summary.merge_all() # summary\n",
    "train_writer = tf.summary.FileWriter(summary_path + 'train', sess.graph)\n",
    "test_writer = tf.summary.FileWriter(summary_path + 'test')\n",
    "print 'Finished creating the han-bi-gru model.'"
   ]
  },
  {
   "cell_type": "markdown",
   "metadata": {},
   "source": [
    "## 导入数据"
   ]
  },
  {
   "cell_type": "code",
   "execution_count": 3,
   "metadata": {
    "collapsed": false
   },
   "outputs": [
    {
     "name": "stdout",
     "output_type": "stream",
     "text": [
      "n_tr_batch=22656\n",
      "n_va_batches=782\n",
      "Every thing prepared!\n"
     ]
    }
   ],
   "source": [
    "import sys\n",
    "sys.path.append('..')\n",
    "from data_helpers import BatchGenerator\n",
    "from data_helpers import to_categorical\n",
    "from evaluator import score_eval\n",
    "\n",
    "\n",
    "\n",
    "data_train_path = '/home2/huangyongye/zhihu/ch-data/seg_train//'\n",
    "data_valid_path = '/home2/huangyongye/zhihu/ch-data/seg_valid/'\n",
    "tr_batches = os.listdir(data_train_path)   # batch 文件名列表\n",
    "va_batches = os.listdir(data_valid_path)\n",
    "n_tr_batches = len(tr_batches)\n",
    "n_va_batches = len(va_batches)\n",
    "\n",
    "# n_tr_batches = 2000  # 测试用\n",
    "# n_va_batches = 100\n",
    "\n",
    "print('n_tr_batch=%d' % n_tr_batches)\n",
    "print('n_va_batches=%d' % n_va_batches)\n",
    "\n",
    "\n",
    "def get_batch(data_path, batch_id, title_len=n_step1):\n",
    "    \"\"\"get a batch from data_path\"\"\"\n",
    "    new_batch = np.load(data_path + str(batch_id) + '.npz')\n",
    "    X_batch = new_batch['X']\n",
    "    y_batch = new_batch['y']\n",
    "    X1_batch = X_batch[:, :title_len]\n",
    "    X2_batch = X_batch[:, title_len:]\n",
    "    return [X1_batch, X2_batch, y_batch]\n",
    "\n",
    "\n",
    "def valid_epoch(data_path=data_valid_path):\n",
    "    \"\"\"Test on the valid data.\"\"\"\n",
    "    _costs = 0.0\n",
    "    predict_labels_list = list()  # 所有的预测结果\n",
    "    marked_labels_list = list()   # 真实标签\n",
    "    _global_step = sess.run(global_step)\n",
    "    for i in xrange(n_va_batches):\n",
    "        [X1_batch, X2_batch, y_batch] = get_batch(data_path, i)\n",
    "        marked_labels_list.extend(y_batch)\n",
    "        y_batch = to_categorical(y_batch)\n",
    "        _batch_size = len(y_batch)\n",
    "        fetches = [merged, cost, y_pred]  \n",
    "        feed_dict = {X1_inputs:X1_batch, X2_inputs:X2_batch,  y_inputs:y_batch, \n",
    "                     batch_size:_batch_size, keep_prob:1.0, tst:True, n_updates:_global_step}\n",
    "        summary, _cost, predict_labels = sess.run(fetches, feed_dict)\n",
    "        _costs += _cost\n",
    "        predict_labels = map(lambda label: label.argsort()[-1:-6:-1], predict_labels) # 取最大的5个下标\n",
    "        predict_labels_list.extend(predict_labels)\n",
    "    predict_label_and_marked_label_list = zip(predict_labels_list, marked_labels_list)\n",
    "    precision, recall, f1 = score_eval(predict_label_and_marked_label_list)\n",
    "    mean_cost = _costs / n_va_batches\n",
    "    return mean_cost, precision, recall, f1\n",
    "\n",
    "print('Every thing prepared!')"
   ]
  },
  {
   "cell_type": "markdown",
   "metadata": {
    "collapsed": true
   },
   "source": [
    "## 训练模型"
   ]
  },
  {
   "cell_type": "code",
   "execution_count": 4,
   "metadata": {
    "collapsed": false,
    "scrolled": true
   },
   "outputs": [
    {
     "data": {
      "text/plain": [
       "0.0004087357875585937"
      ]
     },
     "execution_count": 4,
     "metadata": {},
     "output_type": "execute_result"
    }
   ],
   "source": [
    "0.0015 * (0.85**8)"
   ]
  },
  {
   "cell_type": "code",
   "execution_count": 4,
   "metadata": {
    "collapsed": false
   },
   "outputs": [
    {
     "name": "stdout",
     "output_type": "stream",
     "text": [
      "tr_batch_num=22656\n"
     ]
    }
   ],
   "source": [
    "# 测试\n",
    "# valid_step = 1000        # 每 valid_step 就进行一次 valid 运算\n",
    "# max_epoch = 1\n",
    "# max_max_epoch = 2       # 最多迭代的次数\n",
    "\n",
    "\n",
    "# 正式\n",
    "valid_step = 10000        # 每 valid_step 就进行一次 valid 运算\n",
    "max_epoch = 3\n",
    "max_max_epoch = 7       # 最多迭代的次数\n",
    "\n",
    "print('tr_batch_num=%d' % n_tr_batches)\n",
    "saver = tf.train.Saver(max_to_keep=5)           # 最多保存的模型数量\n",
    "sess.run(tf.global_variables_initializer())\n",
    "last_f1 = 0.39\n",
    "model_num = 0"
   ]
  },
  {
   "cell_type": "code",
   "execution_count": 5,
   "metadata": {
    "collapsed": true
   },
   "outputs": [
    {
     "name": "stdout",
     "output_type": "stream",
     "text": [
      "EPOCH 1, lr= 0.0015\n",
      "Global_step=9999: valid cost=0.0049922; p=1.09477, r=0.448055, f1=0.317935, time=5193.14 s\n",
      "Global_step=19999: valid cost=0.00457147; p=1.21383, r=0.495096, f1=0.35166, time=5233.26 s\n",
      "EPOCH 2, lr= 0.00103797\n",
      "Global_step=29999: valid cost=0.00437524; p=1.26257, r=0.5139, f1=0.365238, time=5227.04 s\n",
      "Global_step=39999: valid cost=0.00423844; p=1.30043, r=0.530088, f1=0.376583, time=5218.06 s\n",
      "EPOCH 3, lr= 0.000718248\n",
      "Global_step=49999: valid cost=0.00419388; p=1.31374, r=0.535453, f1=0.380408, time=5238.49 s\n",
      "Global_step=59999: valid cost=0.00417935; p=1.31541, r=0.536283, f1=0.380966, time=5463.37 s\n",
      "('the save path is ', '../ckpt/ch4-1-han-bigru-256-52/model.ckpt-1')\n",
      "Begin updating embedding.\n",
      "EPOCH 4, lr= 0.000497011\n",
      "Global_step=69999: valid cost=0.00413659; p=1.33329, r=0.543325, f1=0.386019, time=5419.37 s\n",
      "Global_step=79999: valid cost=0.00408495; p=1.34472, r=0.548396, f1=0.389537, time=7185.43 s\n",
      "Global_step=89999: valid cost=0.00404673; p=1.35658, r=0.552342, f1=0.392523, time=7826.28 s\n",
      "('the save path is ', '../ckpt/ch4-1-han-bigru-256-52/model.ckpt-2')\n",
      "EPOCH 5, lr= 0.00034392\n",
      "Global_step=99999: valid cost=0.00404329; p=1.35879, r=0.55339, f1=0.393237, time=5523 s\n",
      "('the save path is ', '../ckpt/ch4-1-han-bigru-256-52/model.ckpt-3')\n",
      "Global_step=109999: valid cost=0.00402022; p=1.3654, r=0.556413, f1=0.395317, time=5974.24 s\n",
      "('the save path is ', '../ckpt/ch4-1-han-bigru-256-52/model.ckpt-4')\n",
      "EPOCH 6, lr= 0.000237985\n",
      "Global_step=119999: valid cost=0.00402001; p=1.36791, r=0.557229, f1=0.39594, time=5599.13 s\n",
      "('the save path is ', '../ckpt/ch4-1-han-bigru-256-52/model.ckpt-5')\n",
      "Global_step=129999: valid cost=0.00400328; p=1.37147, r=0.558999, f1=0.397132, time=4927.27 s\n",
      "('the save path is ', '../ckpt/ch4-1-han-bigru-256-52/model.ckpt-6')\n",
      "EPOCH 7, lr= 0.00016468\n",
      "Global_step=139999: valid cost=0.00401237; p=1.37134, r=0.558739, f1=0.396989, time=5412.44 s\n",
      "Global_step=149999: valid cost=0.00400279; p=1.37351, r=0.559645, f1=0.397629, time=5628.4 s\n",
      "('the save path is ', '../ckpt/ch4-1-han-bigru-256-52/model.ckpt-7')\n"
     ]
    },
    {
     "ename": "KeyboardInterrupt",
     "evalue": "",
     "output_type": "error",
     "traceback": [
      "\u001b[0;31m---------------------------------------------------------------------------\u001b[0m",
      "\u001b[0;31mKeyboardInterrupt\u001b[0m                         Traceback (most recent call last)",
      "\u001b[0;32m<ipython-input-5-71d72c198f31>\u001b[0m in \u001b[0;36m<module>\u001b[0;34m()\u001b[0m\n\u001b[1;32m     32\u001b[0m         feed_dict = {X1_inputs:X1_batch, X2_inputs:X2_batch, y_inputs:y_batch, batch_size:_batch_size, \n\u001b[1;32m     33\u001b[0m                      keep_prob:0.5, tst:False, n_updates:_global_step}\n\u001b[0;32m---> 34\u001b[0;31m         \u001b[0msummary\u001b[0m\u001b[0;34m,\u001b[0m \u001b[0m_cost\u001b[0m\u001b[0;34m,\u001b[0m \u001b[0m_\u001b[0m\u001b[0;34m,\u001b[0m \u001b[0m_\u001b[0m \u001b[0;34m=\u001b[0m \u001b[0msess\u001b[0m\u001b[0;34m.\u001b[0m\u001b[0mrun\u001b[0m\u001b[0;34m(\u001b[0m\u001b[0mfetches\u001b[0m\u001b[0;34m,\u001b[0m \u001b[0mfeed_dict\u001b[0m\u001b[0;34m)\u001b[0m \u001b[0;31m# the cost is the mean cost of one batch\u001b[0m\u001b[0;34m\u001b[0m\u001b[0m\n\u001b[0m\u001b[1;32m     35\u001b[0m         \u001b[0;32mif\u001b[0m \u001b[0m_global_step\u001b[0m \u001b[0;34m%\u001b[0m \u001b[0;36m100\u001b[0m\u001b[0;34m:\u001b[0m\u001b[0;34m\u001b[0m\u001b[0m\n\u001b[1;32m     36\u001b[0m             \u001b[0mtrain_writer\u001b[0m\u001b[0;34m.\u001b[0m\u001b[0madd_summary\u001b[0m\u001b[0;34m(\u001b[0m\u001b[0msummary\u001b[0m\u001b[0;34m,\u001b[0m \u001b[0m_global_step\u001b[0m\u001b[0;34m)\u001b[0m\u001b[0;34m\u001b[0m\u001b[0m\n",
      "\u001b[0;32m/home/common/anaconda2/lib/python2.7/site-packages/tensorflow/python/client/session.pyc\u001b[0m in \u001b[0;36mrun\u001b[0;34m(self, fetches, feed_dict, options, run_metadata)\u001b[0m\n\u001b[1;32m    787\u001b[0m     \u001b[0;32mtry\u001b[0m\u001b[0;34m:\u001b[0m\u001b[0;34m\u001b[0m\u001b[0m\n\u001b[1;32m    788\u001b[0m       result = self._run(None, fetches, feed_dict, options_ptr,\n\u001b[0;32m--> 789\u001b[0;31m                          run_metadata_ptr)\n\u001b[0m\u001b[1;32m    790\u001b[0m       \u001b[0;32mif\u001b[0m \u001b[0mrun_metadata\u001b[0m\u001b[0;34m:\u001b[0m\u001b[0;34m\u001b[0m\u001b[0m\n\u001b[1;32m    791\u001b[0m         \u001b[0mproto_data\u001b[0m \u001b[0;34m=\u001b[0m \u001b[0mtf_session\u001b[0m\u001b[0;34m.\u001b[0m\u001b[0mTF_GetBuffer\u001b[0m\u001b[0;34m(\u001b[0m\u001b[0mrun_metadata_ptr\u001b[0m\u001b[0;34m)\u001b[0m\u001b[0;34m\u001b[0m\u001b[0m\n",
      "\u001b[0;32m/home/common/anaconda2/lib/python2.7/site-packages/tensorflow/python/client/session.pyc\u001b[0m in \u001b[0;36m_run\u001b[0;34m(self, handle, fetches, feed_dict, options, run_metadata)\u001b[0m\n\u001b[1;32m    995\u001b[0m     \u001b[0;32mif\u001b[0m \u001b[0mfinal_fetches\u001b[0m \u001b[0;32mor\u001b[0m \u001b[0mfinal_targets\u001b[0m\u001b[0;34m:\u001b[0m\u001b[0;34m\u001b[0m\u001b[0m\n\u001b[1;32m    996\u001b[0m       results = self._do_run(handle, final_targets, final_fetches,\n\u001b[0;32m--> 997\u001b[0;31m                              feed_dict_string, options, run_metadata)\n\u001b[0m\u001b[1;32m    998\u001b[0m     \u001b[0;32melse\u001b[0m\u001b[0;34m:\u001b[0m\u001b[0;34m\u001b[0m\u001b[0m\n\u001b[1;32m    999\u001b[0m       \u001b[0mresults\u001b[0m \u001b[0;34m=\u001b[0m \u001b[0;34m[\u001b[0m\u001b[0;34m]\u001b[0m\u001b[0;34m\u001b[0m\u001b[0m\n",
      "\u001b[0;32m/home/common/anaconda2/lib/python2.7/site-packages/tensorflow/python/client/session.pyc\u001b[0m in \u001b[0;36m_do_run\u001b[0;34m(self, handle, target_list, fetch_list, feed_dict, options, run_metadata)\u001b[0m\n\u001b[1;32m   1130\u001b[0m     \u001b[0;32mif\u001b[0m \u001b[0mhandle\u001b[0m \u001b[0;32mis\u001b[0m \u001b[0mNone\u001b[0m\u001b[0;34m:\u001b[0m\u001b[0;34m\u001b[0m\u001b[0m\n\u001b[1;32m   1131\u001b[0m       return self._do_call(_run_fn, self._session, feed_dict, fetch_list,\n\u001b[0;32m-> 1132\u001b[0;31m                            target_list, options, run_metadata)\n\u001b[0m\u001b[1;32m   1133\u001b[0m     \u001b[0;32melse\u001b[0m\u001b[0;34m:\u001b[0m\u001b[0;34m\u001b[0m\u001b[0m\n\u001b[1;32m   1134\u001b[0m       return self._do_call(_prun_fn, self._session, handle, feed_dict,\n",
      "\u001b[0;32m/home/common/anaconda2/lib/python2.7/site-packages/tensorflow/python/client/session.pyc\u001b[0m in \u001b[0;36m_do_call\u001b[0;34m(self, fn, *args)\u001b[0m\n\u001b[1;32m   1137\u001b[0m   \u001b[0;32mdef\u001b[0m \u001b[0m_do_call\u001b[0m\u001b[0;34m(\u001b[0m\u001b[0mself\u001b[0m\u001b[0;34m,\u001b[0m \u001b[0mfn\u001b[0m\u001b[0;34m,\u001b[0m \u001b[0;34m*\u001b[0m\u001b[0margs\u001b[0m\u001b[0;34m)\u001b[0m\u001b[0;34m:\u001b[0m\u001b[0;34m\u001b[0m\u001b[0m\n\u001b[1;32m   1138\u001b[0m     \u001b[0;32mtry\u001b[0m\u001b[0;34m:\u001b[0m\u001b[0;34m\u001b[0m\u001b[0m\n\u001b[0;32m-> 1139\u001b[0;31m       \u001b[0;32mreturn\u001b[0m \u001b[0mfn\u001b[0m\u001b[0;34m(\u001b[0m\u001b[0;34m*\u001b[0m\u001b[0margs\u001b[0m\u001b[0;34m)\u001b[0m\u001b[0;34m\u001b[0m\u001b[0m\n\u001b[0m\u001b[1;32m   1140\u001b[0m     \u001b[0;32mexcept\u001b[0m \u001b[0merrors\u001b[0m\u001b[0;34m.\u001b[0m\u001b[0mOpError\u001b[0m \u001b[0;32mas\u001b[0m \u001b[0me\u001b[0m\u001b[0;34m:\u001b[0m\u001b[0;34m\u001b[0m\u001b[0m\n\u001b[1;32m   1141\u001b[0m       \u001b[0mmessage\u001b[0m \u001b[0;34m=\u001b[0m \u001b[0mcompat\u001b[0m\u001b[0;34m.\u001b[0m\u001b[0mas_text\u001b[0m\u001b[0;34m(\u001b[0m\u001b[0me\u001b[0m\u001b[0;34m.\u001b[0m\u001b[0mmessage\u001b[0m\u001b[0;34m)\u001b[0m\u001b[0;34m\u001b[0m\u001b[0m\n",
      "\u001b[0;32m/home/common/anaconda2/lib/python2.7/site-packages/tensorflow/python/client/session.pyc\u001b[0m in \u001b[0;36m_run_fn\u001b[0;34m(session, feed_dict, fetch_list, target_list, options, run_metadata)\u001b[0m\n\u001b[1;32m   1119\u001b[0m         return tf_session.TF_Run(session, options,\n\u001b[1;32m   1120\u001b[0m                                  \u001b[0mfeed_dict\u001b[0m\u001b[0;34m,\u001b[0m \u001b[0mfetch_list\u001b[0m\u001b[0;34m,\u001b[0m \u001b[0mtarget_list\u001b[0m\u001b[0;34m,\u001b[0m\u001b[0;34m\u001b[0m\u001b[0m\n\u001b[0;32m-> 1121\u001b[0;31m                                  status, run_metadata)\n\u001b[0m\u001b[1;32m   1122\u001b[0m \u001b[0;34m\u001b[0m\u001b[0m\n\u001b[1;32m   1123\u001b[0m     \u001b[0;32mdef\u001b[0m \u001b[0m_prun_fn\u001b[0m\u001b[0;34m(\u001b[0m\u001b[0msession\u001b[0m\u001b[0;34m,\u001b[0m \u001b[0mhandle\u001b[0m\u001b[0;34m,\u001b[0m \u001b[0mfeed_dict\u001b[0m\u001b[0;34m,\u001b[0m \u001b[0mfetch_list\u001b[0m\u001b[0;34m)\u001b[0m\u001b[0;34m:\u001b[0m\u001b[0;34m\u001b[0m\u001b[0m\n",
      "\u001b[0;31mKeyboardInterrupt\u001b[0m: "
     ]
    }
   ],
   "source": [
    "time0 = time.time()\n",
    "train_op = train_op2 \n",
    "\n",
    "for epoch in xrange(max_max_epoch):\n",
    "    batch_indexs = np.random.permutation(n_tr_batches)  # shuffle the training data\n",
    "    if epoch == max_epoch:\n",
    "        train_op = train_op1\n",
    "        if model_num == 0:\n",
    "            model_num += 1\n",
    "            save_path = saver.save(sess, model_path, global_step=model_num)\n",
    "            print('the save path is ', save_path)\n",
    "        print('Begin updating embedding.')\n",
    "    print 'EPOCH %d, lr= %g' % (epoch+1, sess.run(learning_rate))    \n",
    "    for batch in xrange(n_tr_batches): \n",
    "        _global_step = sess.run(global_step)\n",
    "        if (_global_step+1) % valid_step == 0:    # 进行 valid 计算\n",
    "            valid_cost, precision, recall, f1 = valid_epoch()\n",
    "            print('Global_step=%d: valid cost=%g; p=%g, r=%g, f1=%g, time=%g s' % (\n",
    "                    _global_step, valid_cost, precision, recall, f1, time.time()-time0))\n",
    "            time0 = time.time()\n",
    "            if (f1 > last_f1):\n",
    "                last_f1 = f1\n",
    "                model_num += 1\n",
    "                save_path = saver.save(sess, model_path, global_step=model_num)\n",
    "                print('the save path is ', save_path) \n",
    "                \n",
    "        batch_id = batch_indexs[batch]\n",
    "        [X1_batch, X2_batch, y_batch] = get_batch(data_train_path, batch_id, n_step1)\n",
    "        y_batch = to_categorical(y_batch)\n",
    "        _batch_size = len(y_batch)\n",
    "        fetches = [merged, cost, train_op, update_op]\n",
    "        feed_dict = {X1_inputs:X1_batch, X2_inputs:X2_batch, y_inputs:y_batch, batch_size:_batch_size, \n",
    "                     keep_prob:0.5, tst:False, n_updates:_global_step}\n",
    "        summary, _cost, _, _ = sess.run(fetches, feed_dict) # the cost is the mean cost of one batch\n",
    "        if _global_step % 100:\n",
    "            train_writer.add_summary(summary, _global_step)\n",
    "            batch_id = np.random.randint(0, n_va_batches)   # 随机选一个验证batch\n",
    "            [X1_batch, X2_batch, y_batch] = get_batch(data_valid_path, batch_id, n_step1)\n",
    "            y_batch = to_categorical(y_batch)\n",
    "            _batch_size = len(y_batch)\n",
    "            feed_dict = {X1_inputs:X1_batch, X2_inputs:X2_batch,  y_inputs:y_batch,\n",
    "                         batch_size:_batch_size, keep_prob:1.0, tst:True, n_updates:_global_step}\n",
    "            fetches = [merged, cost]\n",
    "            summary, _cost = sess.run(fetches, feed_dict)\n",
    "            test_writer.add_summary(summary, _global_step)\n",
    "\n",
    "valid_cost, precision, recall, f1 = valid_epoch()  # # 每个 epoch 进行一次验证 valid\n",
    "print('Global_step=%d;  valid cost=%g; p=%g, r=%g, f1=%g; speed=%g s/epoch' % (\n",
    "    _global_step, valid_cost, precision, recall, f1, time.time()-time0) )\n",
    "if (f1 > 0.001):\n",
    "    model_num += 1\n",
    "    save_path = saver.save(sess, model_path, global_step=model_num)\n",
    "    print('the save path is ', save_path) "
   ]
  },
  {
   "cell_type": "markdown",
   "metadata": {},
   "source": [
    "- Bi-LSTM 模型<br/>\n",
    "**batch_size=256，迭代12个epoch，基本收敛。结果： 验证集 f1=0.38618； 提交结果 0.3873186**\n",
    "- Bi-GRU 模型<br/>\n",
    "**batch_size=256，迭代15个epoch。大概在 13 个 epoch 就收敛了。结果： 验证集 f1=0.390534； 提交结果 0.39198**\n",
    "- attention-Bi-GRU 模型<br/>\n",
    "**batch_size=256，迭代18个epoch。在16个epoch收敛。结果：验证集 f1=f1=0.391734 ；提交结果 0.39310**"
   ]
  },
  {
   "cell_type": "markdown",
   "metadata": {},
   "source": [
    "## 若没有收敛，继续迭代"
   ]
  },
  {
   "cell_type": "code",
   "execution_count": 8,
   "metadata": {
    "collapsed": false
   },
   "outputs": [
    {
     "name": "stdout",
     "output_type": "stream",
     "text": [
      "INFO:tensorflow:Restoring parameters from ../ckpt/han-bigru-title-content-256-30/model.ckpt-7\n",
      "Finished loading model.\n",
      "Global_step=138321: valid cost=0.00388571; p=1.41074, r=0.574479, f1=0.408237 \n",
      "costed time 109.284 s\n"
     ]
    }
   ],
   "source": [
    "# 导入保存好的模型\n",
    "time0 =time.time()\n",
    "saver = tf.train.Saver()\n",
    "best_model_path = model_path + '-' + str(7)  # 导入最优模型   f1=0.408237\n",
    "saver.restore(sess, best_model_path)\n",
    "print('Finished loading model.')\n",
    "valid_cost, precision, recall, f1 = valid_epoch()\n",
    "print('Global_step=%d: valid cost=%g; p=%g, r=%g, f1=%g ' % (\n",
    "        global_step, valid_cost, precision, recall, f1))\n",
    "print('costed time %g s' % (time.time()-time0))"
   ]
  },
  {
   "cell_type": "code",
   "execution_count": 7,
   "metadata": {
    "collapsed": true
   },
   "outputs": [
    {
     "name": "stdout",
     "output_type": "stream",
     "text": [
      "EPOCH 1， lr=2.25e-05\n",
      "Global_step=87000: valid cost=0.00389798; p=1.40806, r=0.573273, f1=0.407403 \n",
      "===>_lr=1.6875e-05\n",
      "Global_step=95000: valid cost=0.00389498; p=1.40956, r=0.573765, f1=0.407778 \n",
      "===>_lr=1.26562e-05\n",
      "Global_step=101655; training cost=0.00361811; valid cost=0.00389419; p=1.40892, r=0.573452, f1=0.407567; speed=7553.93 s/epoch\n",
      "EPOCH 2， lr=9.49219e-06\n",
      "Global_step=109655: valid cost=0.00389483; p=1.4099, r=0.574043, f1=0.407947 \n",
      "===>_lr=7.11914e-06\n",
      "Global_step=117655: valid cost=0.00389145; p=1.41003, r=0.574021, f1=0.407946 \n",
      "===>_lr=5.33936e-06\n",
      "Global_step=124310; training cost=0.00360596; valid cost=0.00389107; p=1.41058, r=0.574252, f1=0.408109; speed=7648.16 s/epoch\n",
      "EPOCH 3， lr=4.00452e-06\n",
      "Global_step=132310: valid cost=0.00389246; p=1.40998, r=0.574214, f1=0.408039 \n",
      "===>_lr=3.00339e-06\n"
     ]
    },
    {
     "ename": "KeyboardInterrupt",
     "evalue": "",
     "output_type": "error",
     "traceback": [
      "\u001b[0;31m---------------------------------------------------------------------------\u001b[0m",
      "\u001b[0;31mKeyboardInterrupt\u001b[0m                         Traceback (most recent call last)",
      "\u001b[0;32m<ipython-input-7-692264fb6b67>\u001b[0m in \u001b[0;36m<module>\u001b[0;34m()\u001b[0m\n\u001b[1;32m     46\u001b[0m                          batch_size:tr_batch_size, keep_prob:1.0, tst:True, n_updates:global_step}\n\u001b[1;32m     47\u001b[0m             \u001b[0mfetches\u001b[0m \u001b[0;34m=\u001b[0m \u001b[0;34m[\u001b[0m\u001b[0mmerged\u001b[0m\u001b[0;34m,\u001b[0m \u001b[0mcost\u001b[0m\u001b[0;34m]\u001b[0m\u001b[0;34m\u001b[0m\u001b[0m\n\u001b[0;32m---> 48\u001b[0;31m             \u001b[0msummary\u001b[0m\u001b[0;34m,\u001b[0m \u001b[0m_cost\u001b[0m \u001b[0;34m=\u001b[0m \u001b[0msess\u001b[0m\u001b[0;34m.\u001b[0m\u001b[0mrun\u001b[0m\u001b[0;34m(\u001b[0m\u001b[0mfetches\u001b[0m\u001b[0;34m,\u001b[0m \u001b[0mfeed_dict\u001b[0m\u001b[0;34m)\u001b[0m\u001b[0;34m\u001b[0m\u001b[0m\n\u001b[0m\u001b[1;32m     49\u001b[0m             \u001b[0mtest_writer\u001b[0m\u001b[0;34m.\u001b[0m\u001b[0madd_summary\u001b[0m\u001b[0;34m(\u001b[0m\u001b[0msummary\u001b[0m\u001b[0;34m,\u001b[0m \u001b[0mglobal_step\u001b[0m\u001b[0;34m)\u001b[0m\u001b[0;34m\u001b[0m\u001b[0m\n\u001b[1;32m     50\u001b[0m     \u001b[0mvalid_cost\u001b[0m\u001b[0;34m,\u001b[0m \u001b[0mprecision\u001b[0m\u001b[0;34m,\u001b[0m \u001b[0mrecall\u001b[0m\u001b[0;34m,\u001b[0m \u001b[0mf1\u001b[0m \u001b[0;34m=\u001b[0m \u001b[0mvalid_epoch\u001b[0m\u001b[0;34m(\u001b[0m\u001b[0;34m)\u001b[0m  \u001b[0;31m# # 每个 epoch 进行一次验证 valid\u001b[0m\u001b[0;34m\u001b[0m\u001b[0m\n",
      "\u001b[0;32m/home/common/anaconda2/lib/python2.7/site-packages/tensorflow/python/client/session.pyc\u001b[0m in \u001b[0;36mrun\u001b[0;34m(self, fetches, feed_dict, options, run_metadata)\u001b[0m\n\u001b[1;32m    787\u001b[0m     \u001b[0;32mtry\u001b[0m\u001b[0;34m:\u001b[0m\u001b[0;34m\u001b[0m\u001b[0m\n\u001b[1;32m    788\u001b[0m       result = self._run(None, fetches, feed_dict, options_ptr,\n\u001b[0;32m--> 789\u001b[0;31m                          run_metadata_ptr)\n\u001b[0m\u001b[1;32m    790\u001b[0m       \u001b[0;32mif\u001b[0m \u001b[0mrun_metadata\u001b[0m\u001b[0;34m:\u001b[0m\u001b[0;34m\u001b[0m\u001b[0m\n\u001b[1;32m    791\u001b[0m         \u001b[0mproto_data\u001b[0m \u001b[0;34m=\u001b[0m \u001b[0mtf_session\u001b[0m\u001b[0;34m.\u001b[0m\u001b[0mTF_GetBuffer\u001b[0m\u001b[0;34m(\u001b[0m\u001b[0mrun_metadata_ptr\u001b[0m\u001b[0;34m)\u001b[0m\u001b[0;34m\u001b[0m\u001b[0m\n",
      "\u001b[0;32m/home/common/anaconda2/lib/python2.7/site-packages/tensorflow/python/client/session.pyc\u001b[0m in \u001b[0;36m_run\u001b[0;34m(self, handle, fetches, feed_dict, options, run_metadata)\u001b[0m\n\u001b[1;32m    995\u001b[0m     \u001b[0;32mif\u001b[0m \u001b[0mfinal_fetches\u001b[0m \u001b[0;32mor\u001b[0m \u001b[0mfinal_targets\u001b[0m\u001b[0;34m:\u001b[0m\u001b[0;34m\u001b[0m\u001b[0m\n\u001b[1;32m    996\u001b[0m       results = self._do_run(handle, final_targets, final_fetches,\n\u001b[0;32m--> 997\u001b[0;31m                              feed_dict_string, options, run_metadata)\n\u001b[0m\u001b[1;32m    998\u001b[0m     \u001b[0;32melse\u001b[0m\u001b[0;34m:\u001b[0m\u001b[0;34m\u001b[0m\u001b[0m\n\u001b[1;32m    999\u001b[0m       \u001b[0mresults\u001b[0m \u001b[0;34m=\u001b[0m \u001b[0;34m[\u001b[0m\u001b[0;34m]\u001b[0m\u001b[0;34m\u001b[0m\u001b[0m\n",
      "\u001b[0;32m/home/common/anaconda2/lib/python2.7/site-packages/tensorflow/python/client/session.pyc\u001b[0m in \u001b[0;36m_do_run\u001b[0;34m(self, handle, target_list, fetch_list, feed_dict, options, run_metadata)\u001b[0m\n\u001b[1;32m   1130\u001b[0m     \u001b[0;32mif\u001b[0m \u001b[0mhandle\u001b[0m \u001b[0;32mis\u001b[0m \u001b[0mNone\u001b[0m\u001b[0;34m:\u001b[0m\u001b[0;34m\u001b[0m\u001b[0m\n\u001b[1;32m   1131\u001b[0m       return self._do_call(_run_fn, self._session, feed_dict, fetch_list,\n\u001b[0;32m-> 1132\u001b[0;31m                            target_list, options, run_metadata)\n\u001b[0m\u001b[1;32m   1133\u001b[0m     \u001b[0;32melse\u001b[0m\u001b[0;34m:\u001b[0m\u001b[0;34m\u001b[0m\u001b[0m\n\u001b[1;32m   1134\u001b[0m       return self._do_call(_prun_fn, self._session, handle, feed_dict,\n",
      "\u001b[0;32m/home/common/anaconda2/lib/python2.7/site-packages/tensorflow/python/client/session.pyc\u001b[0m in \u001b[0;36m_do_call\u001b[0;34m(self, fn, *args)\u001b[0m\n\u001b[1;32m   1137\u001b[0m   \u001b[0;32mdef\u001b[0m \u001b[0m_do_call\u001b[0m\u001b[0;34m(\u001b[0m\u001b[0mself\u001b[0m\u001b[0;34m,\u001b[0m \u001b[0mfn\u001b[0m\u001b[0;34m,\u001b[0m \u001b[0;34m*\u001b[0m\u001b[0margs\u001b[0m\u001b[0;34m)\u001b[0m\u001b[0;34m:\u001b[0m\u001b[0;34m\u001b[0m\u001b[0m\n\u001b[1;32m   1138\u001b[0m     \u001b[0;32mtry\u001b[0m\u001b[0;34m:\u001b[0m\u001b[0;34m\u001b[0m\u001b[0m\n\u001b[0;32m-> 1139\u001b[0;31m       \u001b[0;32mreturn\u001b[0m \u001b[0mfn\u001b[0m\u001b[0;34m(\u001b[0m\u001b[0;34m*\u001b[0m\u001b[0margs\u001b[0m\u001b[0;34m)\u001b[0m\u001b[0;34m\u001b[0m\u001b[0m\n\u001b[0m\u001b[1;32m   1140\u001b[0m     \u001b[0;32mexcept\u001b[0m \u001b[0merrors\u001b[0m\u001b[0;34m.\u001b[0m\u001b[0mOpError\u001b[0m \u001b[0;32mas\u001b[0m \u001b[0me\u001b[0m\u001b[0;34m:\u001b[0m\u001b[0;34m\u001b[0m\u001b[0m\n\u001b[1;32m   1141\u001b[0m       \u001b[0mmessage\u001b[0m \u001b[0;34m=\u001b[0m \u001b[0mcompat\u001b[0m\u001b[0;34m.\u001b[0m\u001b[0mas_text\u001b[0m\u001b[0;34m(\u001b[0m\u001b[0me\u001b[0m\u001b[0;34m.\u001b[0m\u001b[0mmessage\u001b[0m\u001b[0;34m)\u001b[0m\u001b[0;34m\u001b[0m\u001b[0m\n",
      "\u001b[0;32m/home/common/anaconda2/lib/python2.7/site-packages/tensorflow/python/client/session.pyc\u001b[0m in \u001b[0;36m_run_fn\u001b[0;34m(session, feed_dict, fetch_list, target_list, options, run_metadata)\u001b[0m\n\u001b[1;32m   1119\u001b[0m         return tf_session.TF_Run(session, options,\n\u001b[1;32m   1120\u001b[0m                                  \u001b[0mfeed_dict\u001b[0m\u001b[0;34m,\u001b[0m \u001b[0mfetch_list\u001b[0m\u001b[0;34m,\u001b[0m \u001b[0mtarget_list\u001b[0m\u001b[0;34m,\u001b[0m\u001b[0;34m\u001b[0m\u001b[0m\n\u001b[0;32m-> 1121\u001b[0;31m                                  status, run_metadata)\n\u001b[0m\u001b[1;32m   1122\u001b[0m \u001b[0;34m\u001b[0m\u001b[0m\n\u001b[1;32m   1123\u001b[0m     \u001b[0;32mdef\u001b[0m \u001b[0m_prun_fn\u001b[0m\u001b[0;34m(\u001b[0m\u001b[0msession\u001b[0m\u001b[0;34m,\u001b[0m \u001b[0mhandle\u001b[0m\u001b[0;34m,\u001b[0m \u001b[0mfeed_dict\u001b[0m\u001b[0;34m,\u001b[0m \u001b[0mfetch_list\u001b[0m\u001b[0;34m)\u001b[0m\u001b[0;34m:\u001b[0m\u001b[0;34m\u001b[0m\u001b[0m\n",
      "\u001b[0;31mKeyboardInterrupt\u001b[0m: "
     ]
    }
   ],
   "source": [
    "model_num = 7\n",
    "_lr = 3e-5\n",
    "add_epoch = 3  # 本例中，\n",
    "decay = 0.75\n",
    "valid_step = 8000        # 每 valid_step 就进行一次 valid 运算\n",
    "save_epoch = 1           # 每迭代 save_epoch 次保存一次模型\n",
    "tr_batch_num = int(data_train.y.shape[0] / tr_batch_size)  # 每个 epoch 中包含的 batch 数\n",
    "saver = tf.train.Saver(max_to_keep=5)           # 最多保存的模型数量\n",
    "last_f1=0.408237\n",
    "global_step = 79000\n",
    "\n",
    "for epoch in xrange(add_epoch):\n",
    "    _lr = _lr * decay\n",
    "    print 'EPOCH %d， lr=%g' % (epoch+1, _lr)\n",
    "    time0 = time.time()\n",
    "    _costs = 0.0\n",
    "    for batch in xrange(tr_batch_num): \n",
    "        global_step += 1\n",
    "        if (batch+1) % valid_step == 0:    # 进行 valid 计算\n",
    "            valid_cost, precision, recall, f1 = valid_epoch()\n",
    "            print('Global_step=%d: valid cost=%g; p=%g, r=%g, f1=%g ' % (\n",
    "                    global_step, valid_cost, precision, recall, f1))\n",
    "            if (f1 > last_f1):\n",
    "                last_f1 = f1\n",
    "                model_num += 1\n",
    "                save_path = saver.save(sess, model_path, global_step=model_num)\n",
    "                print('the save path is ', save_path) \n",
    "            _lr = _lr * decay\n",
    "            print('===>_lr=%g' % _lr)\n",
    "        X_batch, y_batch = data_train.next_batch(tr_batch_size)\n",
    "        X1_batch = X_batch[:, :title_len]\n",
    "        X2_batch = X_batch[:, title_len:]\n",
    "        y_batch = to_categorical(y_batch)\n",
    "        feed_dict = {X1_inputs:X1_batch,X2_inputs:X2_batch, y_inputs:y_batch, lr:_lr,\n",
    "                    batch_size:tr_batch_size, keep_prob:0.45, tst:False, n_updates:global_step}\n",
    "        fetches = [merged, cost, train_op, update_op]\n",
    "        summary, _cost, _, _ = sess.run(fetches, feed_dict) # the cost is the mean cost of one batch\n",
    "        _costs += _cost\n",
    "        if global_step % 100:\n",
    "            train_writer.add_summary(summary, global_step)\n",
    "            X_batch, y_batch = data_valid.next_batch(tr_batch_size)\n",
    "            X1_batch = X_batch[:, :title_len]\n",
    "            X2_batch = X_batch[:, title_len:]\n",
    "            y_batch = to_categorical(y_batch)\n",
    "            feed_dict = {X1_inputs:X1_batch,X2_inputs:X2_batch, y_inputs:y_batch, lr:1e-5,\n",
    "                         batch_size:tr_batch_size, keep_prob:1.0, tst:True, n_updates:global_step}\n",
    "            fetches = [merged, cost]\n",
    "            summary, _cost = sess.run(fetches, feed_dict)\n",
    "            test_writer.add_summary(summary, global_step)\n",
    "    valid_cost, precision, recall, f1 = valid_epoch()  # # 每个 epoch 进行一次验证 valid\n",
    "    mean_cost = _costs / tr_batch_num\n",
    "    print('Global_step=%d; training cost=%g; valid cost=%g; p=%g, r=%g, f1=%g; speed=%g s/epoch' % (\n",
    "        global_step, mean_cost, valid_cost, precision, recall, f1, time.time()-time0) )\n",
    "    if (f1 > last_f1):\n",
    "        last_f1 = f1\n",
    "        model_num += 1\n",
    "        save_path = saver.save(sess, model_path, global_step=model_num)\n",
    "        print('the save path is ', save_path)       "
   ]
  },
  {
   "cell_type": "markdown",
   "metadata": {},
   "source": [
    "## 本地测试"
   ]
  },
  {
   "cell_type": "code",
   "execution_count": 8,
   "metadata": {
    "collapsed": false
   },
   "outputs": [
    {
     "name": "stdout",
     "output_type": "stream",
     "text": [
      "INFO:tensorflow:Restoring parameters from ../ckpt/m9-han-bigru-title-content-512-30/model.ckpt-2\n",
      "Finished loading model.\n"
     ]
    }
   ],
   "source": [
    "# sys.path.append('..')\n",
    "# from evaluator import score_eval\n",
    "\n",
    "# print('begin ...')\n",
    "# # X_valid = np.load('../data/X_valid.npy')\n",
    "# # 保存 本地测试的标注数据\n",
    "# marked_labels_list = np.load('../data/marked_labels_list.npy')\n",
    "# local_scores_path = '../local_scores/' + model_name + '.npy'\n",
    "\n",
    "# 导入保存好的模型\n",
    "saver = tf.train.Saver()\n",
    "best_model_path = model_path + '-' + str(7)  # 导入最优模型\n",
    "saver.restore(sess, best_model_path)\n",
    "print('Finished loading model.')"
   ]
  },
  {
   "cell_type": "code",
   "execution_count": 6,
   "metadata": {
    "collapsed": false
   },
   "outputs": [
    {
     "name": "stderr",
     "output_type": "stream",
     "text": [
      "  0%|          | 1/782 [00:00<02:26,  5.31it/s]"
     ]
    },
    {
     "name": "stdout",
     "output_type": "stream",
     "text": [
      "local predicting ...\n"
     ]
    },
    {
     "name": "stderr",
     "output_type": "stream",
     "text": [
      "100%|██████████| 782/782 [02:11<00:00,  6.75it/s]\n"
     ]
    },
    {
     "name": "stdout",
     "output_type": "stream",
     "text": [
      "local valid p=1.37426, r=0.559752, f1=0.397745; speed=131.722 s/epoch\n",
      "Writed the scores into ../local_scores/ch4-1-han-bigru-256-52.npy, time 132.343 s\n"
     ]
    }
   ],
   "source": [
    "from tqdm import tqdm\n",
    "\n",
    "\n",
    "local_scores_path = '../local_scores/' + model_name + '.npy'\n",
    "\n",
    "# 导入测试数据\n",
    "def local_predict(scores_path=local_scores_path, data_path=data_valid_path):\n",
    "    \"\"\"预测  valid 结果，并保存预测概率 到  scores.csv 文件中。\"\"\"\n",
    "    print('local predicting ...')\n",
    "    time0 = time.time()\n",
    "    fetches = [y_pred]   \n",
    "    predict_labels_list = list()  # 所有的预测结果\n",
    "    marked_labels_list = list()   # 真实标签\n",
    "    predict_scores = list()\n",
    "    _global_step = sess.run(global_step)\n",
    "    for i in tqdm(xrange(n_va_batches)):\n",
    "        [X1_batch, X2_batch, y_batch] = get_batch(data_path, i)\n",
    "        marked_labels_list.extend(y_batch)\n",
    "        y_batch = to_categorical(y_batch)\n",
    "        _batch_size = len(y_batch)\n",
    "        feed_dict = {X1_inputs:X1_batch, X2_inputs:X2_batch, y_inputs:y_batch,\n",
    "                     batch_size:_batch_size, keep_prob:1.0, tst:True, n_updates:_global_step}\n",
    "        predict_labels = sess.run(fetches, feed_dict)[0]\n",
    "        predict_scores.append(predict_labels)\n",
    "        predict_labels = map(lambda label: label.argsort()[-1:-6:-1], predict_labels) # 取最大的5个下标\n",
    "        predict_labels_list.extend(predict_labels)\n",
    "    predict_scores = np.asarray(predict_scores)\n",
    "    predict_label_and_marked_label_list = zip(predict_labels_list, marked_labels_list)\n",
    "    precision, recall, f1 = score_eval(predict_label_and_marked_label_list)\n",
    "    print('local valid p=%g, r=%g, f1=%g; speed=%g s/epoch' % ( precision, recall, f1, time.time()-time0) )\n",
    "    np.save(local_scores_path, predict_scores)\n",
    "    print('Writed the scores into %s, time %g s' % (local_scores_path, time.time()-time0))\n",
    "    \n",
    "local_predict()"
   ]
  },
  {
   "cell_type": "markdown",
   "metadata": {},
   "source": [
    "## 对测试数据进行预测"
   ]
  },
  {
   "cell_type": "code",
   "execution_count": 15,
   "metadata": {
    "collapsed": false
   },
   "outputs": [
    {
     "name": "stdout",
     "output_type": "stream",
     "text": [
      "INFO:tensorflow:Restoring parameters from ../ckpt/han-bigru-title-content-256/model.ckpt-4\n"
     ]
    }
   ],
   "source": [
    "# 导入保存好的模型\n",
    "saver = tf.train.Saver()\n",
    "best_model_path = model_path + '-' +str(7)\n",
    "saver.restore(sess, best_model_path)"
   ]
  },
  {
   "cell_type": "code",
   "execution_count": 10,
   "metadata": {
    "collapsed": true
   },
   "outputs": [],
   "source": []
  },
  {
   "cell_type": "code",
   "execution_count": 7,
   "metadata": {
    "collapsed": true
   },
   "outputs": [],
   "source": [
    "save_path = '../data/'\n",
    "\n",
    "# 导入测试数据\n",
    "def predict():\n",
    "    \"\"\"预测测试集结果，并保存到  result.csv 文件中。\"\"\"\n",
    "    data_path = '../ch-data/seg_test/'\n",
    "    n_te_batches = len(os.listdir(data_path))\n",
    "    fetches = [y_pred]   \n",
    "    predict_labels_list = list()  # 所有的预测结果\n",
    "    predict_scores = list()\n",
    "    _global_step = sess.run(global_step)\n",
    "    for i in tqdm(xrange(n_te_batches)):\n",
    "        X_batch = np.load(data_path + str(i) + '.npy')\n",
    "        X1_batch = X_batch[:, :n_step1]\n",
    "        X2_batch = X_batch[:, n_step1:]\n",
    "        _batch_size = len(X_batch)\n",
    "        feed_dict = {X1_inputs:X1_batch, X2_inputs:X2_batch,\n",
    "                     batch_size:_batch_size, keep_prob:1.0, tst:True, n_updates:_global_step}\n",
    "        predict_labels = sess.run(fetches, feed_dict)[0]\n",
    "        predict_scores.append(predict_labels)\n",
    "        predict_labels = map(lambda label: label.argsort()[-1:-6:-1], predict_labels) # 取最大的5个下标\n",
    "        predict_labels_list.extend(predict_labels)\n",
    "    predict_scores = np.asarray(predict_scores)\n",
    "    return predict_labels_list, np.vstack(predict_scores)\n",
    "    \n",
    "def write_result(predict_labels_list, result_path):\n",
    "    \"\"\"把结果写到 result.csv 中\"\"\"\n",
    "    eval_question = np.load('../data/eval_question.npy')\n",
    "    with open('../data/sr_topic2id.pkl', 'rb') as inp:\n",
    "        sr_topic2id = pickle.load(inp)\n",
    "        sr_id2topic = pickle.load(inp)\n",
    "    pred_labels = np.asarray(predict_labels_list).reshape([-1])\n",
    "    pred_topics = sr_id2topic[pred_labels].values.reshape([-1, 5])   # 转为 topic\n",
    "    df_result = pd.DataFrame({'question':eval_question, 'tid0': pred_topics[:,0], 'tid1':pred_topics[:, 1],\n",
    "                         'tid2': pred_topics[:,2], 'tid3':pred_topics[:,3],'tid4': pred_topics[:,4]})\n",
    "    df_result.to_csv(result_path, index=False, header=False)\n",
    "    print('Finished writing the result')\n",
    "    return df_result"
   ]
  },
  {
   "cell_type": "code",
   "execution_count": 8,
   "metadata": {
    "collapsed": false,
    "scrolled": false
   },
   "outputs": [
    {
     "name": "stderr",
     "output_type": "stream",
     "text": [
      "100%|██████████| 1699/1699 [04:37<00:00,  6.58it/s]\n"
     ]
    },
    {
     "name": "stdout",
     "output_type": "stream",
     "text": [
      "CPU times: user 4min 20s, sys: 2min 34s, total: 6min 55s\n",
      "Wall time: 6min 35s\n",
      "Finished writing the result\n",
      "('len(df_result)=', 217360)\n",
      "Saving the predict_scores into ../scores/ch4-1-han-bigru-256-52.npy\n",
      "('predict_scores.shape=', (217360, 1999))\n",
      "Finished saving the result!\n"
     ]
    }
   ],
   "source": [
    "%time predict_labels_list,predict_scores = predict()\n",
    "df_result = write_result(predict_labels_list, result_path=result_path) \n",
    "print('len(df_result)=',len(df_result))  # 结果应该为 217360\n",
    "print('Saving the predict_scores into %s' % scores_path)\n",
    "print('predict_scores.shape=',predict_scores.shape)\n",
    "np.save(scores_path, predict_scores)\n",
    "print('Finished saving the result!')"
   ]
  },
  {
   "cell_type": "code",
   "execution_count": 13,
   "metadata": {
    "collapsed": false
   },
   "outputs": [
    {
     "data": {
      "text/html": [
       "<div>\n",
       "<table border=\"1\" class=\"dataframe\">\n",
       "  <thead>\n",
       "    <tr style=\"text-align: right;\">\n",
       "      <th></th>\n",
       "      <th>question</th>\n",
       "      <th>tid0</th>\n",
       "      <th>tid1</th>\n",
       "      <th>tid2</th>\n",
       "      <th>tid3</th>\n",
       "      <th>tid4</th>\n",
       "    </tr>\n",
       "  </thead>\n",
       "  <tbody>\n",
       "    <tr>\n",
       "      <th>0</th>\n",
       "      <td>6215603645409872328</td>\n",
       "      <td>4610596224687453206</td>\n",
       "      <td>-6839713564940654454</td>\n",
       "      <td>-6306904715218704629</td>\n",
       "      <td>-7506384235581390893</td>\n",
       "      <td>2919247920214845195</td>\n",
       "    </tr>\n",
       "    <tr>\n",
       "      <th>1</th>\n",
       "      <td>6649324930261961840</td>\n",
       "      <td>-240041917918953337</td>\n",
       "      <td>2858911571784840089</td>\n",
       "      <td>3418451812342379591</td>\n",
       "      <td>-212983527176510806</td>\n",
       "      <td>2382911985227044227</td>\n",
       "    </tr>\n",
       "    <tr>\n",
       "      <th>2</th>\n",
       "      <td>-4251899610700378615</td>\n",
       "      <td>2919247920214845195</td>\n",
       "      <td>-7358589937244777363</td>\n",
       "      <td>2816249700493135244</td>\n",
       "      <td>-7270992690764838239</td>\n",
       "      <td>-5265476641576484497</td>\n",
       "    </tr>\n",
       "    <tr>\n",
       "      <th>3</th>\n",
       "      <td>6213817087034420233</td>\n",
       "      <td>-8655945395761165989</td>\n",
       "      <td>-4966205278807386328</td>\n",
       "      <td>5804619920623030604</td>\n",
       "      <td>-3966324279534387421</td>\n",
       "      <td>7476760589625268543</td>\n",
       "    </tr>\n",
       "    <tr>\n",
       "      <th>4</th>\n",
       "      <td>-8930652370334418373</td>\n",
       "      <td>3972493657017129406</td>\n",
       "      <td>-8963554618409314978</td>\n",
       "      <td>-6162947324507053330</td>\n",
       "      <td>-315342960042848847</td>\n",
       "      <td>-1115593437686158905</td>\n",
       "    </tr>\n",
       "  </tbody>\n",
       "</table>\n",
       "</div>"
      ],
      "text/plain": [
       "               question                  tid0                  tid1  \\\n",
       "0   6215603645409872328   4610596224687453206  -6839713564940654454   \n",
       "1   6649324930261961840   -240041917918953337   2858911571784840089   \n",
       "2  -4251899610700378615   2919247920214845195  -7358589937244777363   \n",
       "3   6213817087034420233  -8655945395761165989  -4966205278807386328   \n",
       "4  -8930652370334418373   3972493657017129406  -8963554618409314978   \n",
       "\n",
       "                   tid2                  tid3                  tid4  \n",
       "0  -6306904715218704629  -7506384235581390893   2919247920214845195  \n",
       "1   3418451812342379591   -212983527176510806   2382911985227044227  \n",
       "2   2816249700493135244  -7270992690764838239  -5265476641576484497  \n",
       "3   5804619920623030604  -3966324279534387421   7476760589625268543  \n",
       "4  -6162947324507053330   -315342960042848847  -1115593437686158905  "
      ]
     },
     "execution_count": 13,
     "metadata": {},
     "output_type": "execute_result"
    }
   ],
   "source": [
    "df_result.head(5)"
   ]
  },
  {
   "cell_type": "code",
   "execution_count": 9,
   "metadata": {
    "collapsed": false
   },
   "outputs": [
    {
     "data": {
      "text/html": [
       "<div>\n",
       "<table border=\"1\" class=\"dataframe\">\n",
       "  <thead>\n",
       "    <tr style=\"text-align: right;\">\n",
       "      <th></th>\n",
       "      <th>question</th>\n",
       "      <th>tid0</th>\n",
       "      <th>tid1</th>\n",
       "      <th>tid2</th>\n",
       "      <th>tid3</th>\n",
       "      <th>tid4</th>\n",
       "    </tr>\n",
       "  </thead>\n",
       "  <tbody>\n",
       "    <tr>\n",
       "      <th>0</th>\n",
       "      <td>6215603645409872328</td>\n",
       "      <td>4610596224687453206</td>\n",
       "      <td>-6839713564940654454</td>\n",
       "      <td>-7506384235581390893</td>\n",
       "      <td>-5932391056759866388</td>\n",
       "      <td>2919247920214845195</td>\n",
       "    </tr>\n",
       "    <tr>\n",
       "      <th>1</th>\n",
       "      <td>6649324930261961840</td>\n",
       "      <td>2858911571784840089</td>\n",
       "      <td>3418451812342379591</td>\n",
       "      <td>3383016985780045156</td>\n",
       "      <td>2382911985227044227</td>\n",
       "      <td>4313812860434517324</td>\n",
       "    </tr>\n",
       "    <tr>\n",
       "      <th>2</th>\n",
       "      <td>-4251899610700378615</td>\n",
       "      <td>2919247920214845195</td>\n",
       "      <td>-5265476641576484497</td>\n",
       "      <td>-4200589112729926854</td>\n",
       "      <td>3756597728166171300</td>\n",
       "      <td>-7358589937244777363</td>\n",
       "    </tr>\n",
       "    <tr>\n",
       "      <th>3</th>\n",
       "      <td>6213817087034420233</td>\n",
       "      <td>-8655945395761165989</td>\n",
       "      <td>5804619920623030604</td>\n",
       "      <td>-4966205278807386328</td>\n",
       "      <td>244937959911721367</td>\n",
       "      <td>-5985158251850250708</td>\n",
       "    </tr>\n",
       "    <tr>\n",
       "      <th>4</th>\n",
       "      <td>-8930652370334418373</td>\n",
       "      <td>3972493657017129406</td>\n",
       "      <td>-8963554618409314978</td>\n",
       "      <td>-1115593437686158905</td>\n",
       "      <td>1870872991887862017</td>\n",
       "      <td>-1739559252355167518</td>\n",
       "    </tr>\n",
       "  </tbody>\n",
       "</table>\n",
       "</div>"
      ],
      "text/plain": [
       "               question                  tid0                  tid1  \\\n",
       "0   6215603645409872328   4610596224687453206  -6839713564940654454   \n",
       "1   6649324930261961840   2858911571784840089   3418451812342379591   \n",
       "2  -4251899610700378615   2919247920214845195  -5265476641576484497   \n",
       "3   6213817087034420233  -8655945395761165989   5804619920623030604   \n",
       "4  -8930652370334418373   3972493657017129406  -8963554618409314978   \n",
       "\n",
       "                   tid2                  tid3                  tid4  \n",
       "0  -7506384235581390893  -5932391056759866388   2919247920214845195  \n",
       "1   3383016985780045156   2382911985227044227   4313812860434517324  \n",
       "2  -4200589112729926854   3756597728166171300  -7358589937244777363  \n",
       "3  -4966205278807386328    244937959911721367  -5985158251850250708  \n",
       "4  -1115593437686158905   1870872991887862017  -1739559252355167518  "
      ]
     },
     "execution_count": 9,
     "metadata": {},
     "output_type": "execute_result"
    }
   ],
   "source": [
    "# 参考结果\n",
    "df_result.head(5)"
   ]
  },
  {
   "cell_type": "markdown",
   "metadata": {},
   "source": [
    "## 在全部预测正确的情况下，理论值为：f1=0.713933\n",
    "precision=2.50273, recall=0.998873, f1=0.713933"
   ]
  },
  {
   "cell_type": "code",
   "execution_count": 26,
   "metadata": {
    "collapsed": false
   },
   "outputs": [
    {
     "name": "stdout",
     "output_type": "stream",
     "text": [
      "在全部预测正确的情况下，理论值为：\n",
      "precision=2.50273, recall=0.998873, f1=0.713933\n"
     ]
    }
   ],
   "source": [
    "# 假设全部正确，f1 值最高能到多少\n",
    "def padding_label(labels):\n",
    "    \"\"\"把所有的label补齐到长度为 5\"\"\"\n",
    "    label_len = len(labels)\n",
    "    if label_len >= 5:\n",
    "        return labels[:5]\n",
    "    return np.hstack([labels, np.zeros(5-label_len, dtype=int) - 1])\n",
    "    \n",
    "\n",
    "marked_labels_list = data_valid.y.tolist() # 所有的标注结果\n",
    "predict_labels_list = map(padding_label, marked_labels_list)\n",
    "predict_label_and_marked_label_list = zip(predict_labels_list, marked_labels_list)\n",
    "precision, recall, f1 = score_eval(predict_label_and_marked_label_list)\n",
    "print '在全部预测正确的情况下，理论值为：'\n",
    "print 'precision=%g, recall=%g, f1=%g' % (precision, recall, f1)"
   ]
  }
 ],
 "metadata": {
  "anaconda-cloud": {},
  "kernelspec": {
   "display_name": "Python [conda root]",
   "language": "python",
   "name": "conda-root-py"
  },
  "language_info": {
   "codemirror_mode": {
    "name": "ipython",
    "version": 2
   },
   "file_extension": ".py",
   "mimetype": "text/x-python",
   "name": "python",
   "nbconvert_exporter": "python",
   "pygments_lexer": "ipython2",
   "version": "2.7.12"
  }
 },
 "nbformat": 4,
 "nbformat_minor": 1
}
