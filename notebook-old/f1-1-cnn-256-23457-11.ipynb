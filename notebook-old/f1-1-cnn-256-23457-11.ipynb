{
 "cells": [
  {
   "cell_type": "markdown",
   "metadata": {},
   "source": [
    "在后面加一个全连接层。最好是迭代3个epoch。\n",
    "\n",
    "参考代码： \n",
    "\n",
    "https://github.com/brightmart/text_classification/blob/master/a02_TextCNN/p7_TextCNN_model.py \n",
    "\n",
    "https://github.com/Qinbf/Tensorflow/blob/master/Tensorflow%E5%9F%BA%E7%A1%80%E4%BD%BF%E7%94%A8%E4%B8%8E%E6%96%87%E6%9C%AC%E5%88%86%E7%B1%BB%E5%BA%94%E7%94%A8/%E7%A8%8B%E5%BA%8F/cnn.ipynb\n",
    "\n",
    "- 每个模型保存到对应的模型位置\n",
    "- 每个模型生成一个 scores 分数矩阵用于后面进行模型融合"
   ]
  },
  {
   "cell_type": "code",
   "execution_count": 1,
   "metadata": {
    "collapsed": false,
    "scrolled": false
   },
   "outputs": [
    {
     "name": "stdout",
     "output_type": "stream",
     "text": [
      "Starting ...\n",
      "Prepared, costed time 7.6893 s.\n"
     ]
    }
   ],
   "source": [
    "import numpy as np\n",
    "import pandas as pd\n",
    "import matplotlib.pyplot as plt \n",
    "from gensim.models import KeyedVectors\n",
    "import pickle\n",
    "import os\n",
    "import sys\n",
    "import shutil\n",
    "import time\n",
    "\n",
    "\n",
    "time0 = time.time()\n",
    "print('Starting ...')\n",
    "model_name = 'textcnn-fc-drop-title-content-256-23457'                    # 模型名称\n",
    "W_embedding = np.load('../data/W_embedding.npy')            # 导入预训练好的词向量\n",
    "model_path = '../ckpt/' + model_name + '/'                  # 模型保存位置\n",
    "summary_path = '../summary/' + model_name + '/'             # summary 位置\n",
    "result_path = '../result/' + model_name + '.csv'            # result.csv 位置\n",
    "scores_path = '../scores/' + model_name + '.npy'            # scores.npy 位置\n",
    "local_scores_path = '../local_scores/' + model_name + '.npy'\n",
    "\n",
    "\n",
    "if not os.path.exists(model_path):\n",
    "    os.makedirs(model_path)         \n",
    "model_path = model_path + 'model.ckpt'\n",
    "# if os.path.exists(summary_path):   # 删除原来的 summary 文件，避免重合\n",
    "#     print('removed the existing summary files.')\n",
    "#     shutil.rmtree(summary_path)\n",
    "# os.makedirs(summary_path)          # 然后再次创建\n",
    "    \n",
    "# ##################### config ######################\n",
    "n_step1 = max_len1 = 50                   # title句子长度\n",
    "n_step2= max_len2 = 150                   # content 长度\n",
    "input_size = embedding_size = 256       # 字向量长度\n",
    "n_class = 1999                          # 类别总数\n",
    "filter_sizes = [2,3,4,5,7]                  # 卷积核大小\n",
    "n_filter = 256                          # 每种卷积核的个数\n",
    "fc_hidden_size = 1024                   # fc 层节点数\n",
    "n_filter_total = n_filter * len(filter_sizes)\n",
    "global_step = 0\n",
    "valid_num = 100000\n",
    "seed_num = 13\n",
    "print('Prepared, costed time %g s.' % (time.time() - time0))"
   ]
  },
  {
   "cell_type": "code",
   "execution_count": 2,
   "metadata": {
    "collapsed": false,
    "scrolled": false
   },
   "outputs": [
    {
     "name": "stdout",
     "output_type": "stream",
     "text": [
      "Building model ...\n",
      "Finished creating the TextCNN model.\n"
     ]
    }
   ],
   "source": [
    "import tensorflow as tf\n",
    "config = tf.ConfigProto()\n",
    "config.gpu_options.allow_growth = True\n",
    "sess = tf.Session(config=config)\n",
    "from tensorflow.contrib import rnn\n",
    "import tensorflow.contrib.layers as layers\n",
    "\n",
    "'''\n",
    "双端 GRU，知乎问题多标签分类。\n",
    "'''\n",
    "print('Building model ...')\n",
    "lr = tf.placeholder(tf.float32)\n",
    "keep_prob = tf.placeholder(tf.float32, [])\n",
    "batch_size = tf.placeholder(tf.int32, [])  # 注意类型必须为 tf.int32\n",
    "tst = tf.placeholder(tf.bool)\n",
    "n_updates = tf.placeholder(tf.int32)      # training iteration,传入 bn 层\n",
    "update_emas = list()   # BN 层中所有的更新操作\n",
    "\n",
    "\n",
    "def weight_variable(shape, name):\n",
    "    \"\"\"Create a weight variable with appropriate initialization.\"\"\"\n",
    "    initial = tf.truncated_normal(shape, stddev=0.1)\n",
    "    return tf.Variable(initial, name=name)\n",
    "\n",
    "def bias_variable(shape, name):\n",
    "    \"\"\"Create a bias variable with appropriate initialization.\"\"\"\n",
    "    initial = tf.constant(0.1, shape=shape)\n",
    "    return tf.Variable(initial, name=name)\n",
    "\n",
    "def batchnorm(Ylogits, is_test, num_updates, offset, convolutional=False):\n",
    "    \"\"\"batchnormalization.\n",
    "    Args:\n",
    "        Ylogits: 1D向量或者是3D的卷积结果。\n",
    "        num_updates: 迭代的global_step\n",
    "        offset：表示beta，全局均值；在 RELU 激活中一般初始化为 0.1。\n",
    "        scale：表示lambda，全局方差；在 sigmoid 激活中需要，这 RELU 激活中作用不大。\n",
    "        m: 表示batch均值；v:表示batch方差。\n",
    "        bnepsilon：一个很小的浮点数，防止除以 0.\n",
    "    Returns:\n",
    "        Ybn: 和 Ylogits 的维度一样，就是经过 Batch Normalization 处理的结果。\n",
    "        update_moving_everages：更新mean和variance，主要是给最后的 test 使用。\n",
    "    \"\"\"\n",
    "    exp_moving_avg = tf.train.ExponentialMovingAverage(0.999, num_updates) # adding the iteration prevents from averaging across non-existing iterations\n",
    "    bnepsilon = 1e-5\n",
    "    if convolutional:\n",
    "        mean, variance = tf.nn.moments(Ylogits, [0, 1, 2])\n",
    "    else:\n",
    "        mean, variance = tf.nn.moments(Ylogits, [0])\n",
    "    update_moving_everages = exp_moving_avg.apply([mean, variance])\n",
    "    m = tf.cond(is_test, lambda: exp_moving_avg.average(mean), lambda: mean)\n",
    "    v = tf.cond(is_test, lambda: exp_moving_avg.average(variance), lambda: variance)\n",
    "    Ybn = tf.nn.batch_normalization(Ylogits, m, v, offset, None, bnepsilon)\n",
    "    return Ybn, update_moving_everages\n",
    "\n",
    "\n",
    "with tf.name_scope('Inputs'):\n",
    "    X1_inputs = tf.placeholder(tf.int64, [None, n_step1], name='X1_input')\n",
    "    X2_inputs = tf.placeholder(tf.int64, [None, n_step2], name='X2_input')\n",
    "    y_inputs = tf.placeholder(tf.float32, [None, n_class], name='y_input')    \n",
    "\n",
    "with tf.name_scope('embedding_layer'):\n",
    "    embedding = tf.get_variable(name=\"W_embedding\", shape=W_embedding.shape, \n",
    "                        initializer=tf.constant_initializer(W_embedding), trainable=True)   # fine-tune\n",
    "\n",
    "def textcnn(X_inputs, n_step):\n",
    "    \"\"\"build the TextCNN network. Return the h_drop\"\"\"\n",
    "    # X_inputs.shape = [batchsize, n_step]  ->  inputs.shape = [batchsize, n_step, embedding_size]\n",
    "    inputs = tf.nn.embedding_lookup(embedding, X_inputs)  \n",
    "    inputs = tf.expand_dims(inputs, -1)\n",
    "    pooled_outputs = list()\n",
    "    for i, filter_size in enumerate(filter_sizes):\n",
    "        with tf.name_scope(\"conv-maxpool-%s\" % filter_size):\n",
    "            # Convolution Layer\n",
    "            filter_shape = [filter_size, embedding_size, 1, n_filter]\n",
    "            W_filter = tf.Variable(tf.truncated_normal(filter_shape, stddev=0.1), name=\"W_filter\")\n",
    "#             tf.summary.histogram('W_filter', W_filter)\n",
    "            beta = tf.Variable(tf.constant(0.1, tf.float32, shape=[n_filter], name=\"beta\"))\n",
    "            tf.summary.histogram('beta', beta)\n",
    "            conv = tf.nn.conv2d(inputs, W_filter, strides=[1, 1, 1, 1], padding=\"VALID\", name=\"conv\")\n",
    "            conv_bn, update_ema = batchnorm(conv, tst, n_updates, beta, convolutional=True)    # 在激活层前面加 BN\n",
    "            # Apply nonlinearity, batch norm scaling is not useful with relus\n",
    "            # batch norm offsets are used instead of biases,使用 BN 层的 offset，不要 biases\n",
    "            h = tf.nn.relu(conv_bn, name=\"relu\")\n",
    "            # Maxpooling over the outputs\n",
    "            pooled = tf.nn.max_pool(h,ksize=[1, n_step - filter_size + 1, 1, 1],\n",
    "                strides=[1, 1, 1, 1],padding='VALID',name=\"pool\")\n",
    "            pooled_outputs.append(pooled)\n",
    "            update_emas.append(update_ema)\n",
    "    h_pool = tf.concat(pooled_outputs, 3)\n",
    "    h_pool_flat = tf.reshape(h_pool, [-1, n_filter_total]) \n",
    "    return h_pool_flat    # shape = [-1, n_filter_total]\n",
    "    \n",
    "    \n",
    "with tf.name_scope('cnn-title'):\n",
    "    output_title = textcnn(X1_inputs, n_step1)\n",
    "with tf.name_scope('cnn-content'):\n",
    "    output_content = textcnn(X2_inputs, n_step2)\n",
    "with tf.name_scope('fc-bn-layer'):\n",
    "    output = tf.concat([output_title, output_content], axis=1)\n",
    "    W_fc = weight_variable([n_filter_total*2, fc_hidden_size], name='Weight_fc')\n",
    "    tf.summary.histogram('W_fc', W_fc)\n",
    "    h_fc = tf.matmul(output, W_fc, name='h_fc')\n",
    "    beta_fc = tf.Variable(tf.constant(0.1, tf.float32, shape=[fc_hidden_size], name=\"beta_fc\"))\n",
    "    tf.summary.histogram('beta_fc', beta_fc)\n",
    "    fc_bn, update_ema_fc = batchnorm(h_fc, tst, n_updates, beta_fc, convolutional=False)\n",
    "    update_emas.append(update_ema_fc)\n",
    "    fc_bn_relu = tf.nn.relu(fc_bn, name=\"relu\")\n",
    "    fc_bn_drop = tf.nn.dropout(fc_bn_relu, keep_prob)\n",
    "\n",
    "with tf.name_scope('out_layer'):\n",
    "    W_out = weight_variable([fc_hidden_size, n_class], name='Weight_out') \n",
    "    tf.summary.histogram('Weight_out', W_out)\n",
    "    b_out = bias_variable([n_class], name='bias_out') \n",
    "    tf.summary.histogram('bias_out', b_out)\n",
    "    y_pred = tf.nn.xw_plus_b(fc_bn_drop, W_out, b_out, name='y_pred')  #每个类别的分数 scores\n",
    "    \n",
    "with tf.name_scope('cost'):\n",
    "    cost = tf.reduce_mean(tf.nn.sigmoid_cross_entropy_with_logits(logits=y_pred, labels=y_inputs))\n",
    "    tf.summary.scalar('cost', cost)\n",
    "\n",
    "# 优化器\n",
    "with tf.name_scope('AdamOptimizer'):\n",
    "    optimizer = tf.train.AdamOptimizer(learning_rate=lr)\n",
    "    train_op = optimizer.minimize(cost)\n",
    "    update_op = tf.group(*update_emas)   # 更新 BN 参数\n",
    "\n",
    "# summary\n",
    "merged = tf.summary.merge_all() # summary\n",
    "train_writer = tf.summary.FileWriter(summary_path + 'train', sess.graph)\n",
    "test_writer = tf.summary.FileWriter(summary_path + 'test')\n",
    "print 'Finished creating the TextCNN model.'"
   ]
  },
  {
   "cell_type": "markdown",
   "metadata": {},
   "source": [
    "## 导入数据"
   ]
  },
  {
   "cell_type": "code",
   "execution_count": 3,
   "metadata": {
    "collapsed": false
   },
   "outputs": [
    {
     "name": "stdout",
     "output_type": "stream",
     "text": [
      "loading data...\n",
      "finished loading data, time cost 83.9473 s\n",
      "train_num=2899952, valid_num=100000\n",
      "('X_train.shape=', (2899952, 200), 'y_train.shape=', (2899952,))\n",
      "('X_valid.shape=', (100000, 200), 'y_valid.shape=', (100000,))\n",
      "Finised loading data, time 118.86 s\n"
     ]
    }
   ],
   "source": [
    "sys.path.append('..')\n",
    "from data_helpers import BatchGenerator\n",
    "from data_helpers import to_categorical\n",
    "from evaluator import score_eval\n",
    "\n",
    "save_path = '../data/'\n",
    "print('loading data...')\n",
    "time0 = time.time()\n",
    "X_title = np.load(save_path+'X_tr_title_50.npy')\n",
    "X_content = np.load(save_path+'X_tr_content_150.npy')\n",
    "X = np.hstack([X_title, X_content])\n",
    "y = np.load(save_path+'y_tr.npy')\n",
    "print('finished loading data, time cost %g s' % (time.time() - time0))\n",
    "# 划分验证集\n",
    "sample_num = X.shape[0]\n",
    "np.random.seed(seed_num)\n",
    "new_index = np.random.permutation(sample_num)\n",
    "X = X[new_index]\n",
    "y = y[new_index]\n",
    "X_valid = X[:valid_num]\n",
    "y_valid = y[:valid_num]\n",
    "X_train = X[valid_num:]\n",
    "y_train = y[valid_num:]\n",
    "print('train_num=%d, valid_num=%d' % (X_train.shape[0], X_valid.shape[0]))\n",
    "\n",
    "# 构建数据生成器\n",
    "data_train = BatchGenerator(X_train, y_train, shuffle=True)\n",
    "data_valid = BatchGenerator(X_valid, y_valid, shuffle=False)\n",
    "print('X_train.shape=', X_train.shape, 'y_train.shape=', y_train.shape)\n",
    "print('X_valid.shape=', X_valid.shape, 'y_valid.shape=', y_valid.shape)\n",
    "\n",
    "# valid 数据及 验证集计算\n",
    "marked_labels_list = data_valid.y.tolist() # 所有的标注结果\n",
    "valid_data_size = data_valid.y.shape[0]\n",
    "def valid_epoch():\n",
    "    \"\"\"Testing or valid.\"\"\"\n",
    "    data_valid._index_in_epoch = 0  # 先指向第一个值\n",
    "    _batch_size = 128\n",
    "    fetches = [merged, cost, y_pred]   \n",
    "    batch_num = int(valid_data_size / _batch_size)\n",
    "    start_time = time.time()\n",
    "    _costs = 0.0\n",
    "    predict_labels_list = list()  # 所有的预测结果\n",
    "    for i in xrange(batch_num):\n",
    "        X_batch, y_batch = data_valid.next_batch(_batch_size)\n",
    "        X1_batch = X_batch[:, :n_step1]\n",
    "        X2_batch = X_batch[:, n_step1:]\n",
    "        y_batch = to_categorical(y_batch)\n",
    "        feed_dict = {X1_inputs:X1_batch, X2_inputs:X2_batch,  y_inputs:y_batch, lr:1e-5,\n",
    "                     batch_size:_batch_size, keep_prob:1.0, tst:True, n_updates:global_step}\n",
    "        summary, _cost, predict_labels = sess.run(fetches, feed_dict)\n",
    "        _costs += _cost    \n",
    "        predict_labels = map(lambda label: label.argsort()[-1:-6:-1], predict_labels) # 取最大的5个下标\n",
    "        predict_labels_list.extend(predict_labels)\n",
    "    test_writer.add_summary(summary, global_step)\n",
    "    predict_label_and_marked_label_list = zip(predict_labels_list, marked_labels_list)\n",
    "    precision, recall, f1 = score_eval(predict_label_and_marked_label_list)\n",
    "    mean_cost = _costs / batch_num\n",
    "    return mean_cost, precision, recall, f1\n",
    "\n",
    "print('Finised loading data, time %g s' % (time.time() - time0))"
   ]
  },
  {
   "cell_type": "markdown",
   "metadata": {},
   "source": [
    "##  模型训练"
   ]
  },
  {
   "cell_type": "code",
   "execution_count": 4,
   "metadata": {
    "collapsed": true
   },
   "outputs": [
    {
     "name": "stdout",
     "output_type": "stream",
     "text": [
      "EPOCH 1， lr=0.0005\n",
      "training cost=0.00612083; valid cost=0.00609015; p=1.26797, r=0.52154, f1=0.369541; speed=9334.15 s/epoch\n",
      "the save path is ../ckpt/textcnn-fc-drop-title-content-256-23457/model.ckpt-1 \n",
      "EPOCH 2， lr=0.000325\n",
      "training cost=0.00401857; valid cost=0.00482716; p=1.3526, r=0.553405, f1=0.392725; speed=8982.77 s/epoch\n",
      "the save path is ../ckpt/textcnn-fc-drop-title-content-256-23457/model.ckpt-2 \n",
      "EPOCH 3， lr=0.00021125\n",
      "training cost=0.00376675; valid cost=0.00438907; p=1.38679, r=0.566921, f1=0.402414; speed=9318.04 s/epoch\n",
      "the save path is ../ckpt/textcnn-fc-drop-title-content-256-23457/model.ckpt-3 \n",
      "EPOCH 4， lr=0.000137313\n",
      "training cost=0.00359536; valid cost=0.00410391; p=1.40918, r=0.575219, f1=0.40848; speed=9457.58 s/epoch\n",
      "the save path is ../ckpt/textcnn-fc-drop-title-content-256-23457/model.ckpt-4 \n",
      "EPOCH 5， lr=8.92531e-05\n",
      "training cost=0.00347179; valid cost=0.00400233; p=1.41756, r=0.577871, f1=0.410521; speed=9714.52 s/epoch\n",
      "the save path is ../ckpt/textcnn-fc-drop-title-content-256-23457/model.ckpt-5 \n",
      "EPOCH 6， lr=5.80145e-05\n"
     ]
    },
    {
     "ename": "KeyboardInterrupt",
     "evalue": "",
     "output_type": "error",
     "traceback": [
      "\u001b[0;31m---------------------------------------------------------------------------\u001b[0m",
      "\u001b[0;31mKeyboardInterrupt\u001b[0m                         Traceback (most recent call last)",
      "\u001b[0;32m<ipython-input-4-a53e4a24b00b>\u001b[0m in \u001b[0;36m<module>\u001b[0;34m()\u001b[0m\n\u001b[1;32m     31\u001b[0m                      batch_size:tr_batch_size, keep_prob:0.5, tst:False, n_updates:global_step}\n\u001b[1;32m     32\u001b[0m         \u001b[0mfetches\u001b[0m \u001b[0;34m=\u001b[0m \u001b[0;34m[\u001b[0m\u001b[0mmerged\u001b[0m\u001b[0;34m,\u001b[0m \u001b[0mcost\u001b[0m\u001b[0;34m,\u001b[0m \u001b[0mtrain_op\u001b[0m\u001b[0;34m,\u001b[0m \u001b[0mupdate_op\u001b[0m\u001b[0;34m]\u001b[0m\u001b[0;34m\u001b[0m\u001b[0m\n\u001b[0;32m---> 33\u001b[0;31m         \u001b[0msummary\u001b[0m\u001b[0;34m,\u001b[0m \u001b[0m_cost\u001b[0m\u001b[0;34m,\u001b[0m \u001b[0m_\u001b[0m\u001b[0;34m,\u001b[0m \u001b[0m_\u001b[0m \u001b[0;34m=\u001b[0m \u001b[0msess\u001b[0m\u001b[0;34m.\u001b[0m\u001b[0mrun\u001b[0m\u001b[0;34m(\u001b[0m\u001b[0mfetches\u001b[0m\u001b[0;34m,\u001b[0m \u001b[0mfeed_dict\u001b[0m\u001b[0;34m)\u001b[0m \u001b[0;31m# the cost is the mean cost of one batch\u001b[0m\u001b[0;34m\u001b[0m\u001b[0m\n\u001b[0m\u001b[1;32m     34\u001b[0m         \u001b[0m_costs\u001b[0m \u001b[0;34m+=\u001b[0m \u001b[0m_cost\u001b[0m\u001b[0;34m\u001b[0m\u001b[0m\n\u001b[1;32m     35\u001b[0m         \u001b[0;32mif\u001b[0m \u001b[0mglobal_step\u001b[0m \u001b[0;34m%\u001b[0m \u001b[0;36m100\u001b[0m\u001b[0;34m:\u001b[0m  \u001b[0;31m#　验证一次\u001b[0m\u001b[0;34m\u001b[0m\u001b[0m\n",
      "\u001b[0;32m/home/common/anaconda2/lib/python2.7/site-packages/tensorflow/python/client/session.pyc\u001b[0m in \u001b[0;36mrun\u001b[0;34m(self, fetches, feed_dict, options, run_metadata)\u001b[0m\n\u001b[1;32m    787\u001b[0m     \u001b[0;32mtry\u001b[0m\u001b[0;34m:\u001b[0m\u001b[0;34m\u001b[0m\u001b[0m\n\u001b[1;32m    788\u001b[0m       result = self._run(None, fetches, feed_dict, options_ptr,\n\u001b[0;32m--> 789\u001b[0;31m                          run_metadata_ptr)\n\u001b[0m\u001b[1;32m    790\u001b[0m       \u001b[0;32mif\u001b[0m \u001b[0mrun_metadata\u001b[0m\u001b[0;34m:\u001b[0m\u001b[0;34m\u001b[0m\u001b[0m\n\u001b[1;32m    791\u001b[0m         \u001b[0mproto_data\u001b[0m \u001b[0;34m=\u001b[0m \u001b[0mtf_session\u001b[0m\u001b[0;34m.\u001b[0m\u001b[0mTF_GetBuffer\u001b[0m\u001b[0;34m(\u001b[0m\u001b[0mrun_metadata_ptr\u001b[0m\u001b[0;34m)\u001b[0m\u001b[0;34m\u001b[0m\u001b[0m\n",
      "\u001b[0;32m/home/common/anaconda2/lib/python2.7/site-packages/tensorflow/python/client/session.pyc\u001b[0m in \u001b[0;36m_run\u001b[0;34m(self, handle, fetches, feed_dict, options, run_metadata)\u001b[0m\n\u001b[1;32m    995\u001b[0m     \u001b[0;32mif\u001b[0m \u001b[0mfinal_fetches\u001b[0m \u001b[0;32mor\u001b[0m \u001b[0mfinal_targets\u001b[0m\u001b[0;34m:\u001b[0m\u001b[0;34m\u001b[0m\u001b[0m\n\u001b[1;32m    996\u001b[0m       results = self._do_run(handle, final_targets, final_fetches,\n\u001b[0;32m--> 997\u001b[0;31m                              feed_dict_string, options, run_metadata)\n\u001b[0m\u001b[1;32m    998\u001b[0m     \u001b[0;32melse\u001b[0m\u001b[0;34m:\u001b[0m\u001b[0;34m\u001b[0m\u001b[0m\n\u001b[1;32m    999\u001b[0m       \u001b[0mresults\u001b[0m \u001b[0;34m=\u001b[0m \u001b[0;34m[\u001b[0m\u001b[0;34m]\u001b[0m\u001b[0;34m\u001b[0m\u001b[0m\n",
      "\u001b[0;32m/home/common/anaconda2/lib/python2.7/site-packages/tensorflow/python/client/session.pyc\u001b[0m in \u001b[0;36m_do_run\u001b[0;34m(self, handle, target_list, fetch_list, feed_dict, options, run_metadata)\u001b[0m\n\u001b[1;32m   1130\u001b[0m     \u001b[0;32mif\u001b[0m \u001b[0mhandle\u001b[0m \u001b[0;32mis\u001b[0m \u001b[0mNone\u001b[0m\u001b[0;34m:\u001b[0m\u001b[0;34m\u001b[0m\u001b[0m\n\u001b[1;32m   1131\u001b[0m       return self._do_call(_run_fn, self._session, feed_dict, fetch_list,\n\u001b[0;32m-> 1132\u001b[0;31m                            target_list, options, run_metadata)\n\u001b[0m\u001b[1;32m   1133\u001b[0m     \u001b[0;32melse\u001b[0m\u001b[0;34m:\u001b[0m\u001b[0;34m\u001b[0m\u001b[0m\n\u001b[1;32m   1134\u001b[0m       return self._do_call(_prun_fn, self._session, handle, feed_dict,\n",
      "\u001b[0;32m/home/common/anaconda2/lib/python2.7/site-packages/tensorflow/python/client/session.pyc\u001b[0m in \u001b[0;36m_do_call\u001b[0;34m(self, fn, *args)\u001b[0m\n\u001b[1;32m   1137\u001b[0m   \u001b[0;32mdef\u001b[0m \u001b[0m_do_call\u001b[0m\u001b[0;34m(\u001b[0m\u001b[0mself\u001b[0m\u001b[0;34m,\u001b[0m \u001b[0mfn\u001b[0m\u001b[0;34m,\u001b[0m \u001b[0;34m*\u001b[0m\u001b[0margs\u001b[0m\u001b[0;34m)\u001b[0m\u001b[0;34m:\u001b[0m\u001b[0;34m\u001b[0m\u001b[0m\n\u001b[1;32m   1138\u001b[0m     \u001b[0;32mtry\u001b[0m\u001b[0;34m:\u001b[0m\u001b[0;34m\u001b[0m\u001b[0m\n\u001b[0;32m-> 1139\u001b[0;31m       \u001b[0;32mreturn\u001b[0m \u001b[0mfn\u001b[0m\u001b[0;34m(\u001b[0m\u001b[0;34m*\u001b[0m\u001b[0margs\u001b[0m\u001b[0;34m)\u001b[0m\u001b[0;34m\u001b[0m\u001b[0m\n\u001b[0m\u001b[1;32m   1140\u001b[0m     \u001b[0;32mexcept\u001b[0m \u001b[0merrors\u001b[0m\u001b[0;34m.\u001b[0m\u001b[0mOpError\u001b[0m \u001b[0;32mas\u001b[0m \u001b[0me\u001b[0m\u001b[0;34m:\u001b[0m\u001b[0;34m\u001b[0m\u001b[0m\n\u001b[1;32m   1141\u001b[0m       \u001b[0mmessage\u001b[0m \u001b[0;34m=\u001b[0m \u001b[0mcompat\u001b[0m\u001b[0;34m.\u001b[0m\u001b[0mas_text\u001b[0m\u001b[0;34m(\u001b[0m\u001b[0me\u001b[0m\u001b[0;34m.\u001b[0m\u001b[0mmessage\u001b[0m\u001b[0;34m)\u001b[0m\u001b[0;34m\u001b[0m\u001b[0m\n",
      "\u001b[0;32m/home/common/anaconda2/lib/python2.7/site-packages/tensorflow/python/client/session.pyc\u001b[0m in \u001b[0;36m_run_fn\u001b[0;34m(session, feed_dict, fetch_list, target_list, options, run_metadata)\u001b[0m\n\u001b[1;32m   1119\u001b[0m         return tf_session.TF_Run(session, options,\n\u001b[1;32m   1120\u001b[0m                                  \u001b[0mfeed_dict\u001b[0m\u001b[0;34m,\u001b[0m \u001b[0mfetch_list\u001b[0m\u001b[0;34m,\u001b[0m \u001b[0mtarget_list\u001b[0m\u001b[0;34m,\u001b[0m\u001b[0;34m\u001b[0m\u001b[0m\n\u001b[0;32m-> 1121\u001b[0;31m                                  status, run_metadata)\n\u001b[0m\u001b[1;32m   1122\u001b[0m \u001b[0;34m\u001b[0m\u001b[0m\n\u001b[1;32m   1123\u001b[0m     \u001b[0;32mdef\u001b[0m \u001b[0m_prun_fn\u001b[0m\u001b[0;34m(\u001b[0m\u001b[0msession\u001b[0m\u001b[0;34m,\u001b[0m \u001b[0mhandle\u001b[0m\u001b[0;34m,\u001b[0m \u001b[0mfeed_dict\u001b[0m\u001b[0;34m,\u001b[0m \u001b[0mfetch_list\u001b[0m\u001b[0;34m)\u001b[0m\u001b[0;34m:\u001b[0m\u001b[0;34m\u001b[0m\u001b[0m\n",
      "\u001b[0;31mKeyboardInterrupt\u001b[0m: "
     ]
    }
   ],
   "source": [
    "tr_batch_size = 128      \n",
    "_lr = 5e-4 \n",
    "max_epoch = 1            # 超多 max_epoch 以后开始降低 lr\n",
    "decay = 0.65             # 每个 epoch lr降低的系数\n",
    "valid_step = 6000        # 每 valid_step 就进行一次 valid 运算\n",
    "max_max_epoch = 10       # 最多迭代的次数\n",
    "save_epoch = 1           # 每迭代 save_epoch 次保存一次模型\n",
    "tr_batch_num = int(data_train.y.shape[0] / tr_batch_size)  # 每个 epoch 中包含的 batch 数\n",
    "saver = tf.train.Saver(max_to_keep=12)           # 最多保存的模型数量\n",
    "sess.run(tf.global_variables_initializer())\n",
    "\n",
    "for epoch in xrange(max_max_epoch):\n",
    "    if (epoch >= max_epoch):\n",
    "        _lr = _lr * decay\n",
    "    print 'EPOCH %d， lr=%g' % (epoch+1, _lr)\n",
    "    time0 = time.time()\n",
    "    start_time = time.time()\n",
    "    _costs = 0.0\n",
    "    show_costs = 0.0\n",
    "    for batch in xrange(tr_batch_num): \n",
    "        global_step += 1\n",
    "#         if (batch+1) % valid_step == 0:    # 进行 valid 计算\n",
    "#             valid_cost, precision, recall, f1 = valid_epoch()\n",
    "#             print('global_step=%d: valid cost=%g; p=%g, r=%g, f1=%g ' % (\n",
    "#                     global_step, valid_cost, precision, recall, f1))\n",
    "        X_batch, y_batch = data_train.next_batch(tr_batch_size)\n",
    "        X1_batch = X_batch[:, :n_step1]\n",
    "        X2_batch = X_batch[:, n_step1:]\n",
    "        y_batch = to_categorical(y_batch)\n",
    "        feed_dict = {X1_inputs:X1_batch, X2_inputs:X2_batch,  y_inputs:y_batch, lr:_lr,\n",
    "                     batch_size:tr_batch_size, keep_prob:0.5, tst:False, n_updates:global_step}\n",
    "        fetches = [merged, cost, train_op, update_op]\n",
    "        summary, _cost, _, _ = sess.run(fetches, feed_dict) # the cost is the mean cost of one batch\n",
    "        _costs += _cost\n",
    "        if global_step % 100:  #　验证一次\n",
    "            train_writer.add_summary(summary, global_step)\n",
    "            X_batch, y_batch = data_valid.next_batch(tr_batch_size)\n",
    "            X1_batch = X_batch[:, :n_step1]\n",
    "            X2_batch = X_batch[:, n_step1:]\n",
    "            y_batch = to_categorical(y_batch)\n",
    "            feed_dict = {X1_inputs:X1_batch, X2_inputs:X2_batch,  y_inputs:y_batch, lr:1e-5,\n",
    "                         batch_size:tr_batch_size, keep_prob:1.0, tst:True, n_updates:global_step}\n",
    "            fetches = [merged, cost]\n",
    "            summary, _cost = sess.run(fetches, feed_dict)\n",
    "            test_writer.add_summary(summary, global_step)\n",
    "    valid_cost, precision, recall, f1 = valid_epoch()  # #每个 epoch 结束后进行一次整体 valid\n",
    "    mean_cost = _costs / tr_batch_num\n",
    "    print('training cost=%g; valid cost=%g; p=%g, r=%g, f1=%g; speed=%g s/epoch' % (\n",
    "        mean_cost, valid_cost, precision, recall, f1, time.time()-time0) )\n",
    "    if (epoch + 1) % save_epoch == 0:  # 每 2 个 epoch 保存一次模型\n",
    "        save_path = saver.save(sess, model_path, global_step=(epoch+1))\n",
    "        print('the save path is %s ' % save_path) "
   ]
  },
  {
   "cell_type": "code",
   "execution_count": 5,
   "metadata": {
    "collapsed": false
   },
   "outputs": [
    {
     "name": "stdout",
     "output_type": "stream",
     "text": [
      "valid cost=0.00400637; p=1.42095, r=0.579586, f1=0.411671; speed=7431.4 s/epoch\n",
      "the save path is ../ckpt/textcnn-fc-drop-title-content-256-23457/model.ckpt-6 \n"
     ]
    }
   ],
   "source": [
    "valid_cost, precision, recall, f1 = valid_epoch()  # #每个 epoch 结束后进行一次整体 valid\n",
    "print('valid cost=%g; p=%g, r=%g, f1=%g; speed=%g s/epoch' % (valid_cost, precision, recall, f1, time.time()-time0) )\n",
    "save_path = saver.save(sess, model_path, global_step=(epoch+1))\n",
    "print('the save path is %s ' % save_path) "
   ]
  },
  {
   "cell_type": "markdown",
   "metadata": {},
   "source": [
    "- Bi-LSTM 模型<br/>\n",
    "**batch_size=256，迭代12个epoch，基本收敛。结果： 验证集 f1=0.38618； 提交结果 0.3873186**\n",
    "- Bi-GRU 模型<br/>\n",
    "**batch_size=256，迭代15个epoch。大概在 13 个 epoch 就收敛了。结果： 验证集 f1=0.390534； 提交结果 0.39198**\n",
    "- attention-Bi-GRU 模型<br/>\n",
    "**batch_size=256，迭代18个epoch。在16个epoch收敛。结果：验证集 f1=f1=0.391734 ；提交结果 0.39310**\n",
    "\n",
    "\n",
    "- textcnn-256 lr=1e-3, decay=0.65, dropout=0.5, 迭代6次基本收敛， f1=0.388\n",
    "- textcnn-256-bn lr=1.5E-3，decay=0.65, dropout=0.5, 6次基本收敛，8次好一点， f1=0.389\n",
    "- textcnn-fc-drop 迭代 4.5 个epoch 收敛。"
   ]
  },
  {
   "cell_type": "markdown",
   "metadata": {},
   "source": [
    "## 若没有收敛，继续迭代"
   ]
  },
  {
   "cell_type": "code",
   "execution_count": 16,
   "metadata": {
    "collapsed": false
   },
   "outputs": [
    {
     "name": "stdout",
     "output_type": "stream",
     "text": [
      "22655\n",
      "INFO:tensorflow:Restoring parameters from ../ckpt/textcnn-fc-drop-title-content-256-23457/model.ckpt-6\n",
      "Finished loading model.\n"
     ]
    }
   ],
   "source": [
    "tr_batch_size = 128      \n",
    "_lr = 6e-5\n",
    "decay1 = 0.85             # 每个 epoch lr降低的系数\n",
    "decay2 = 0.65\n",
    "valid_step = 8000        # 每 valid_step 就进行一次 valid 运算\n",
    "add_epoch = 4       # 最多迭代的次数\n",
    "tr_batch_num = int(data_train.y.shape[0] / tr_batch_size)  # 每个 epoch 中包含的 batch 数\n",
    "print(tr_batch_num)\n",
    "saver = tf.train.Saver(max_to_keep=5)           # 最多保存的模型数量\n",
    "best_model_path ='../ckpt/textcnn-fc-drop-title-content-256-23457/model.ckpt-6'   # 导入最优模型\n",
    "saver.restore(sess, best_model_path)\n",
    "print('Finished loading model.')"
   ]
  },
  {
   "cell_type": "code",
   "execution_count": 15,
   "metadata": {
    "collapsed": false
   },
   "outputs": [
    {
     "data": {
      "text/plain": [
       "128000"
      ]
     },
     "execution_count": 15,
     "metadata": {},
     "output_type": "execute_result"
    }
   ],
   "source": [
    "8000 * 16"
   ]
  },
  {
   "cell_type": "code",
   "execution_count": 17,
   "metadata": {
    "collapsed": false
   },
   "outputs": [
    {
     "name": "stdout",
     "output_type": "stream",
     "text": [
      "130000\n"
     ]
    }
   ],
   "source": [
    "global_step = 130000\n",
    "print(global_step)"
   ]
  },
  {
   "cell_type": "code",
   "execution_count": 18,
   "metadata": {
    "collapsed": false
   },
   "outputs": [
    {
     "name": "stdout",
     "output_type": "stream",
     "text": [
      "EPOCH 1， lr=6e-05\n",
      "global_step=136000, _lr=6e-05: valid cost=0.00397116; p=1.42062, r=0.579291, f1=0.411494, time 2485 s\n",
      "('the save path is ', '../ckpt/textcnn-fc-drop-title-content-256-23457/model.ckpt-7')\n",
      "global_step=144000, _lr=5.1e-05: valid cost=0.00395831; p=1.4218, r=0.579603, f1=0.411751, time 3270.94 s\n",
      "('the save path is ', '../ckpt/textcnn-fc-drop-title-content-256-23457/model.ckpt-8')\n",
      "global_step=152000, _lr=4.335e-05: valid cost=0.00396253; p=1.42171, r=0.579748, f1=0.411817, time 3271.2 s\n",
      "('the save path is ', '../ckpt/textcnn-fc-drop-title-content-256-23457/model.ckpt-9')\n",
      "EPOCH 2， lr=3.68475e-05\n",
      "global_step=160000, _lr=3.68475e-05: valid cost=0.00395839; p=1.42164, r=0.579616, f1=0.411744, time 3032.42 s\n",
      "global_step=168000, _lr=2.39509e-05: valid cost=0.00395911; p=1.42354, r=0.580283, f1=0.41224, time 3232.17 s\n",
      "('the save path is ', '../ckpt/textcnn-fc-drop-title-content-256-23457/model.ckpt-10')\n",
      "Global_step=175310;  valid cost=0.00395433; p=1.42282, r=0.579907, f1=0.411989; speed=3349.52 s/epoch\n"
     ]
    }
   ],
   "source": [
    "add_epoch = 2   # 增加迭代的次数\n",
    "model_num = 6\n",
    "last_f1 = 0.410521\n",
    "\n",
    "\n",
    "for epoch in xrange(add_epoch):\n",
    "    fetches = [merged, cost, train_op]\n",
    "    print 'EPOCH %d， lr=%g' % (epoch+1, _lr)\n",
    "    time0 = time.time()\n",
    "    for batch in xrange(tr_batch_num): \n",
    "        global_step += 1\n",
    "        if (global_step+1) % valid_step == 0:    # 进行 valid 计算\n",
    "            valid_cost, precision, recall, f1 = valid_epoch()\n",
    "            print('global_step=%d, _lr=%g: valid cost=%g; p=%g, r=%g, f1=%g, time %g s' % (\n",
    "                    global_step+1, _lr, valid_cost, precision, recall, f1, time.time()-time0))\n",
    "            time0 = time.time()                \n",
    "            if (f1 > last_f1):\n",
    "                _lr = _lr * decay1\n",
    "                last_f1 = f1\n",
    "                model_num += 1\n",
    "                model_save_path = saver.save(sess, model_path, global_step=model_num)\n",
    "                print('the save path is ', model_save_path)\n",
    "            else:\n",
    "                _lr = _lr * decay2\n",
    "            \n",
    "        X_batch, y_batch = data_train.next_batch(tr_batch_size)\n",
    "        X1_batch = X_batch[:, :n_step1]\n",
    "        X2_batch = X_batch[:, n_step1:]\n",
    "        y_batch = to_categorical(y_batch)\n",
    "        feed_dict = {X1_inputs:X1_batch, X2_inputs:X2_batch,  y_inputs:y_batch, lr:_lr,\n",
    "                     batch_size:tr_batch_size, keep_prob:0.5, tst:False, n_updates:global_step}\n",
    "        fetches = [merged, cost, train_op, update_op]\n",
    "        summary, _cost, _, _ = sess.run(fetches, feed_dict) # the cost is the mean cost of one batch\n",
    "        if global_step % 100:  #　验证一次\n",
    "            train_writer.add_summary(summary, global_step)\n",
    "            X_batch, y_batch = data_valid.next_batch(tr_batch_size)\n",
    "            X1_batch = X_batch[:, :n_step1]\n",
    "            X2_batch = X_batch[:, n_step1:]\n",
    "            y_batch = to_categorical(y_batch)\n",
    "            feed_dict = {X1_inputs:X1_batch, X2_inputs:X2_batch,  y_inputs:y_batch, lr:1e-5,\n",
    "                         batch_size:tr_batch_size, keep_prob:1.0, tst:True, n_updates:global_step}\n",
    "            fetches = [merged, cost]\n",
    "            summary, _cost = sess.run(fetches, feed_dict)\n",
    "            test_writer.add_summary(summary, global_step)\n",
    "\n",
    "valid_cost, precision, recall, f1 = valid_epoch()  # # 每个 epoch 进行一次验证 valid\n",
    "print('Global_step=%d;  valid cost=%g; p=%g, r=%g, f1=%g; speed=%g s/epoch' % (\n",
    "    global_step, valid_cost, precision, recall, f1, time.time()-time0) )\n",
    "if (f1 > last_f1):\n",
    "    model_num += 1\n",
    "    save_path = saver.save(sess, model_path, global_step=model_num)\n",
    "    print('the save path is ', save_path) "
   ]
  },
  {
   "cell_type": "code",
   "execution_count": 19,
   "metadata": {
    "collapsed": true
   },
   "outputs": [
    {
     "name": "stdout",
     "output_type": "stream",
     "text": [
      "EPOCH 1， lr=4e-05\n",
      "global_step=176000, _lr=4e-05: valid cost=0.00399489; p=1.4221, r=0.579787, f1=0.411869, time 433.268 s\n",
      "global_step=184000, _lr=2.6e-05: valid cost=0.00396814; p=1.42345, r=0.580095, f1=0.412137, time 3228.58 s\n",
      "global_step=192000, _lr=1.69e-05: valid cost=0.00395682; p=1.42352, r=0.580296, f1=0.412245, time 3219.73 s\n",
      "('the save path is ', '../ckpt/textcnn-fc-drop-title-content-256-23457/model.ckpt-11')\n",
      "EPOCH 2， lr=1.4365e-05\n",
      "global_step=200000, _lr=1.4365e-05: valid cost=0.00396481; p=1.42322, r=0.580056, f1=0.412098, time 943.819 s\n",
      "global_step=208000, _lr=9.33725e-06: valid cost=0.00396888; p=1.42387, r=0.580167, f1=0.412209, time 3334.52 s\n"
     ]
    },
    {
     "ename": "KeyboardInterrupt",
     "evalue": "",
     "output_type": "error",
     "traceback": [
      "\u001b[0;31m---------------------------------------------------------------------------\u001b[0m",
      "\u001b[0;31mKeyboardInterrupt\u001b[0m                         Traceback (most recent call last)",
      "\u001b[0;32m<ipython-input-19-181678688546>\u001b[0m in \u001b[0;36m<module>\u001b[0;34m()\u001b[0m\n\u001b[1;32m     30\u001b[0m                      batch_size:tr_batch_size, keep_prob:0.5, tst:False, n_updates:global_step}\n\u001b[1;32m     31\u001b[0m         \u001b[0mfetches\u001b[0m \u001b[0;34m=\u001b[0m \u001b[0;34m[\u001b[0m\u001b[0mmerged\u001b[0m\u001b[0;34m,\u001b[0m \u001b[0mcost\u001b[0m\u001b[0;34m,\u001b[0m \u001b[0mtrain_op\u001b[0m\u001b[0;34m,\u001b[0m \u001b[0mupdate_op\u001b[0m\u001b[0;34m]\u001b[0m\u001b[0;34m\u001b[0m\u001b[0m\n\u001b[0;32m---> 32\u001b[0;31m         \u001b[0msummary\u001b[0m\u001b[0;34m,\u001b[0m \u001b[0m_cost\u001b[0m\u001b[0;34m,\u001b[0m \u001b[0m_\u001b[0m\u001b[0;34m,\u001b[0m \u001b[0m_\u001b[0m \u001b[0;34m=\u001b[0m \u001b[0msess\u001b[0m\u001b[0;34m.\u001b[0m\u001b[0mrun\u001b[0m\u001b[0;34m(\u001b[0m\u001b[0mfetches\u001b[0m\u001b[0;34m,\u001b[0m \u001b[0mfeed_dict\u001b[0m\u001b[0;34m)\u001b[0m \u001b[0;31m# the cost is the mean cost of one batch\u001b[0m\u001b[0;34m\u001b[0m\u001b[0m\n\u001b[0m\u001b[1;32m     33\u001b[0m         \u001b[0;32mif\u001b[0m \u001b[0mglobal_step\u001b[0m \u001b[0;34m%\u001b[0m \u001b[0;36m100\u001b[0m\u001b[0;34m:\u001b[0m  \u001b[0;31m#　验证一次\u001b[0m\u001b[0;34m\u001b[0m\u001b[0m\n\u001b[1;32m     34\u001b[0m             \u001b[0mtrain_writer\u001b[0m\u001b[0;34m.\u001b[0m\u001b[0madd_summary\u001b[0m\u001b[0;34m(\u001b[0m\u001b[0msummary\u001b[0m\u001b[0;34m,\u001b[0m \u001b[0mglobal_step\u001b[0m\u001b[0;34m)\u001b[0m\u001b[0;34m\u001b[0m\u001b[0m\n",
      "\u001b[0;32m/home/common/anaconda2/lib/python2.7/site-packages/tensorflow/python/client/session.pyc\u001b[0m in \u001b[0;36mrun\u001b[0;34m(self, fetches, feed_dict, options, run_metadata)\u001b[0m\n\u001b[1;32m    787\u001b[0m     \u001b[0;32mtry\u001b[0m\u001b[0;34m:\u001b[0m\u001b[0;34m\u001b[0m\u001b[0m\n\u001b[1;32m    788\u001b[0m       result = self._run(None, fetches, feed_dict, options_ptr,\n\u001b[0;32m--> 789\u001b[0;31m                          run_metadata_ptr)\n\u001b[0m\u001b[1;32m    790\u001b[0m       \u001b[0;32mif\u001b[0m \u001b[0mrun_metadata\u001b[0m\u001b[0;34m:\u001b[0m\u001b[0;34m\u001b[0m\u001b[0m\n\u001b[1;32m    791\u001b[0m         \u001b[0mproto_data\u001b[0m \u001b[0;34m=\u001b[0m \u001b[0mtf_session\u001b[0m\u001b[0;34m.\u001b[0m\u001b[0mTF_GetBuffer\u001b[0m\u001b[0;34m(\u001b[0m\u001b[0mrun_metadata_ptr\u001b[0m\u001b[0;34m)\u001b[0m\u001b[0;34m\u001b[0m\u001b[0m\n",
      "\u001b[0;32m/home/common/anaconda2/lib/python2.7/site-packages/tensorflow/python/client/session.pyc\u001b[0m in \u001b[0;36m_run\u001b[0;34m(self, handle, fetches, feed_dict, options, run_metadata)\u001b[0m\n\u001b[1;32m    995\u001b[0m     \u001b[0;32mif\u001b[0m \u001b[0mfinal_fetches\u001b[0m \u001b[0;32mor\u001b[0m \u001b[0mfinal_targets\u001b[0m\u001b[0;34m:\u001b[0m\u001b[0;34m\u001b[0m\u001b[0m\n\u001b[1;32m    996\u001b[0m       results = self._do_run(handle, final_targets, final_fetches,\n\u001b[0;32m--> 997\u001b[0;31m                              feed_dict_string, options, run_metadata)\n\u001b[0m\u001b[1;32m    998\u001b[0m     \u001b[0;32melse\u001b[0m\u001b[0;34m:\u001b[0m\u001b[0;34m\u001b[0m\u001b[0m\n\u001b[1;32m    999\u001b[0m       \u001b[0mresults\u001b[0m \u001b[0;34m=\u001b[0m \u001b[0;34m[\u001b[0m\u001b[0;34m]\u001b[0m\u001b[0;34m\u001b[0m\u001b[0m\n",
      "\u001b[0;32m/home/common/anaconda2/lib/python2.7/site-packages/tensorflow/python/client/session.pyc\u001b[0m in \u001b[0;36m_do_run\u001b[0;34m(self, handle, target_list, fetch_list, feed_dict, options, run_metadata)\u001b[0m\n\u001b[1;32m   1130\u001b[0m     \u001b[0;32mif\u001b[0m \u001b[0mhandle\u001b[0m \u001b[0;32mis\u001b[0m \u001b[0mNone\u001b[0m\u001b[0;34m:\u001b[0m\u001b[0;34m\u001b[0m\u001b[0m\n\u001b[1;32m   1131\u001b[0m       return self._do_call(_run_fn, self._session, feed_dict, fetch_list,\n\u001b[0;32m-> 1132\u001b[0;31m                            target_list, options, run_metadata)\n\u001b[0m\u001b[1;32m   1133\u001b[0m     \u001b[0;32melse\u001b[0m\u001b[0;34m:\u001b[0m\u001b[0;34m\u001b[0m\u001b[0m\n\u001b[1;32m   1134\u001b[0m       return self._do_call(_prun_fn, self._session, handle, feed_dict,\n",
      "\u001b[0;32m/home/common/anaconda2/lib/python2.7/site-packages/tensorflow/python/client/session.pyc\u001b[0m in \u001b[0;36m_do_call\u001b[0;34m(self, fn, *args)\u001b[0m\n\u001b[1;32m   1137\u001b[0m   \u001b[0;32mdef\u001b[0m \u001b[0m_do_call\u001b[0m\u001b[0;34m(\u001b[0m\u001b[0mself\u001b[0m\u001b[0;34m,\u001b[0m \u001b[0mfn\u001b[0m\u001b[0;34m,\u001b[0m \u001b[0;34m*\u001b[0m\u001b[0margs\u001b[0m\u001b[0;34m)\u001b[0m\u001b[0;34m:\u001b[0m\u001b[0;34m\u001b[0m\u001b[0m\n\u001b[1;32m   1138\u001b[0m     \u001b[0;32mtry\u001b[0m\u001b[0;34m:\u001b[0m\u001b[0;34m\u001b[0m\u001b[0m\n\u001b[0;32m-> 1139\u001b[0;31m       \u001b[0;32mreturn\u001b[0m \u001b[0mfn\u001b[0m\u001b[0;34m(\u001b[0m\u001b[0;34m*\u001b[0m\u001b[0margs\u001b[0m\u001b[0;34m)\u001b[0m\u001b[0;34m\u001b[0m\u001b[0m\n\u001b[0m\u001b[1;32m   1140\u001b[0m     \u001b[0;32mexcept\u001b[0m \u001b[0merrors\u001b[0m\u001b[0;34m.\u001b[0m\u001b[0mOpError\u001b[0m \u001b[0;32mas\u001b[0m \u001b[0me\u001b[0m\u001b[0;34m:\u001b[0m\u001b[0;34m\u001b[0m\u001b[0m\n\u001b[1;32m   1141\u001b[0m       \u001b[0mmessage\u001b[0m \u001b[0;34m=\u001b[0m \u001b[0mcompat\u001b[0m\u001b[0;34m.\u001b[0m\u001b[0mas_text\u001b[0m\u001b[0;34m(\u001b[0m\u001b[0me\u001b[0m\u001b[0;34m.\u001b[0m\u001b[0mmessage\u001b[0m\u001b[0;34m)\u001b[0m\u001b[0;34m\u001b[0m\u001b[0m\n",
      "\u001b[0;32m/home/common/anaconda2/lib/python2.7/site-packages/tensorflow/python/client/session.pyc\u001b[0m in \u001b[0;36m_run_fn\u001b[0;34m(session, feed_dict, fetch_list, target_list, options, run_metadata)\u001b[0m\n\u001b[1;32m   1119\u001b[0m         return tf_session.TF_Run(session, options,\n\u001b[1;32m   1120\u001b[0m                                  \u001b[0mfeed_dict\u001b[0m\u001b[0;34m,\u001b[0m \u001b[0mfetch_list\u001b[0m\u001b[0;34m,\u001b[0m \u001b[0mtarget_list\u001b[0m\u001b[0;34m,\u001b[0m\u001b[0;34m\u001b[0m\u001b[0m\n\u001b[0;32m-> 1121\u001b[0;31m                                  status, run_metadata)\n\u001b[0m\u001b[1;32m   1122\u001b[0m \u001b[0;34m\u001b[0m\u001b[0m\n\u001b[1;32m   1123\u001b[0m     \u001b[0;32mdef\u001b[0m \u001b[0m_prun_fn\u001b[0m\u001b[0;34m(\u001b[0m\u001b[0msession\u001b[0m\u001b[0;34m,\u001b[0m \u001b[0mhandle\u001b[0m\u001b[0;34m,\u001b[0m \u001b[0mfeed_dict\u001b[0m\u001b[0;34m,\u001b[0m \u001b[0mfetch_list\u001b[0m\u001b[0;34m)\u001b[0m\u001b[0;34m:\u001b[0m\u001b[0;34m\u001b[0m\u001b[0m\n",
      "\u001b[0;31mKeyboardInterrupt\u001b[0m: "
     ]
    }
   ],
   "source": [
    "add_epoch = 2   # 增加迭代的次数\n",
    "_lr = 4e-5\n",
    "\n",
    "\n",
    "for epoch in xrange(add_epoch):\n",
    "    fetches = [merged, cost, train_op]\n",
    "    print 'EPOCH %d， lr=%g' % (epoch+1, _lr)\n",
    "    time0 = time.time()\n",
    "    for batch in xrange(tr_batch_num): \n",
    "        global_step += 1\n",
    "        if (global_step+1) % valid_step == 0:    # 进行 valid 计算\n",
    "            valid_cost, precision, recall, f1 = valid_epoch()\n",
    "            print('global_step=%d, _lr=%g: valid cost=%g; p=%g, r=%g, f1=%g, time %g s' % (\n",
    "                    global_step+1, _lr, valid_cost, precision, recall, f1, time.time()-time0))\n",
    "            time0 = time.time()                \n",
    "            if (f1 > last_f1):\n",
    "                _lr = _lr * decay1\n",
    "                last_f1 = f1\n",
    "                model_num += 1\n",
    "                model_save_path = saver.save(sess, model_path, global_step=model_num)\n",
    "                print('the save path is ', model_save_path)\n",
    "            else:\n",
    "                _lr = _lr * decay2\n",
    "            \n",
    "        X_batch, y_batch = data_train.next_batch(tr_batch_size)\n",
    "        X1_batch = X_batch[:, :n_step1]\n",
    "        X2_batch = X_batch[:, n_step1:]\n",
    "        y_batch = to_categorical(y_batch)\n",
    "        feed_dict = {X1_inputs:X1_batch, X2_inputs:X2_batch,  y_inputs:y_batch, lr:_lr,\n",
    "                     batch_size:tr_batch_size, keep_prob:0.5, tst:False, n_updates:global_step}\n",
    "        fetches = [merged, cost, train_op, update_op]\n",
    "        summary, _cost, _, _ = sess.run(fetches, feed_dict) # the cost is the mean cost of one batch\n",
    "        if global_step % 100:  #　验证一次\n",
    "            train_writer.add_summary(summary, global_step)\n",
    "            X_batch, y_batch = data_valid.next_batch(tr_batch_size)\n",
    "            X1_batch = X_batch[:, :n_step1]\n",
    "            X2_batch = X_batch[:, n_step1:]\n",
    "            y_batch = to_categorical(y_batch)\n",
    "            feed_dict = {X1_inputs:X1_batch, X2_inputs:X2_batch,  y_inputs:y_batch, lr:1e-5,\n",
    "                         batch_size:tr_batch_size, keep_prob:1.0, tst:True, n_updates:global_step}\n",
    "            fetches = [merged, cost]\n",
    "            summary, _cost = sess.run(fetches, feed_dict)\n",
    "            test_writer.add_summary(summary, global_step)\n",
    "\n",
    "valid_cost, precision, recall, f1 = valid_epoch()  # # 每个 epoch 进行一次验证 valid\n",
    "print('Global_step=%d;  valid cost=%g; p=%g, r=%g, f1=%g; speed=%g s/epoch' % (\n",
    "    global_step, valid_cost, precision, recall, f1, time.time()-time0) )\n",
    "if (f1 > last_f1):\n",
    "    model_num += 1\n",
    "    save_path = saver.save(sess, model_path, global_step=model_num)\n",
    "    print('the save path is ', save_path) "
   ]
  },
  {
   "cell_type": "markdown",
   "metadata": {},
   "source": [
    "## 本地测试\n",
    "使用 seed13 的前 10万条数据."
   ]
  },
  {
   "cell_type": "code",
   "execution_count": 17,
   "metadata": {
    "collapsed": true
   },
   "outputs": [],
   "source": [
    "np.save('../data/X_valid.npy', X_valid)"
   ]
  },
  {
   "cell_type": "code",
   "execution_count": 10,
   "metadata": {
    "collapsed": false
   },
   "outputs": [],
   "source": [
    "# 保存 本地测试的标注数据\n",
    "np.save('../data/marked_labels_list.npy', marked_labels_list)"
   ]
  },
  {
   "cell_type": "code",
   "execution_count": 6,
   "metadata": {
    "collapsed": true
   },
   "outputs": [],
   "source": []
  },
  {
   "cell_type": "code",
   "execution_count": 21,
   "metadata": {
    "collapsed": true
   },
   "outputs": [
    {
     "name": "stdout",
     "output_type": "stream",
     "text": [
      "INFO:tensorflow:Restoring parameters from ../ckpt/textcnn-fc-drop-title-content-256-23457/model.ckpt-9\n"
     ]
    },
    {
     "name": "stderr",
     "output_type": "stream",
     "text": [
      "  0%|          | 2/500 [00:00<00:44, 11.18it/s]"
     ]
    },
    {
     "name": "stdout",
     "output_type": "stream",
     "text": [
      "local predicting ...\n"
     ]
    },
    {
     "name": "stderr",
     "output_type": "stream",
     "text": [
      "100%|██████████| 500/500 [00:40<00:00, 11.63it/s]\n"
     ]
    },
    {
     "name": "stdout",
     "output_type": "stream",
     "text": [
      "local valid p=1.4217, r=0.579706, f1=0.411795; speed=40.8632 s/epoch\n",
      "Writed the scores into /home2/huangyongye/zhihu/local_scores/f1-1-cnn-256-23457-9.npy, time 41.285 s\n",
      "INFO:tensorflow:Restoring parameters from ../ckpt/textcnn-fc-drop-title-content-256-23457/model.ckpt-10\n"
     ]
    },
    {
     "name": "stderr",
     "output_type": "stream",
     "text": [
      "\r",
      "  0%|          | 0/500 [00:00<?, ?it/s]"
     ]
    },
    {
     "name": "stdout",
     "output_type": "stream",
     "text": [
      "local predicting ...\n"
     ]
    },
    {
     "name": "stderr",
     "output_type": "stream",
     "text": [
      "100%|██████████| 500/500 [00:40<00:00, 12.31it/s]\n"
     ]
    },
    {
     "name": "stdout",
     "output_type": "stream",
     "text": [
      "local valid p=1.42353, r=0.580241, f1=0.412218; speed=41.3371 s/epoch\n",
      "Writed the scores into /home2/huangyongye/zhihu/local_scores/f1-1-cnn-256-23457-10.npy, time 41.7727 s\n",
      "INFO:tensorflow:Restoring parameters from ../ckpt/textcnn-fc-drop-title-content-256-23457/model.ckpt-11\n"
     ]
    },
    {
     "name": "stderr",
     "output_type": "stream",
     "text": [
      "  0%|          | 2/500 [00:00<00:39, 12.58it/s]"
     ]
    },
    {
     "name": "stdout",
     "output_type": "stream",
     "text": [
      "local predicting ...\n"
     ]
    },
    {
     "name": "stderr",
     "output_type": "stream",
     "text": [
      "100%|██████████| 500/500 [00:40<00:00, 12.38it/s]\n"
     ]
    },
    {
     "name": "stdout",
     "output_type": "stream",
     "text": [
      "local valid p=1.42351, r=0.580253, f1=0.412223; speed=41.0634 s/epoch\n",
      "Writed the scores into /home2/huangyongye/zhihu/local_scores/f1-1-cnn-256-23457-11.npy, time 41.4854 s\n"
     ]
    }
   ],
   "source": [
    "# 导入保存好的模型\n",
    "saver = tf.train.Saver()\n",
    "# best_model_path = model_path + '-' + str(8)  # 导入最优模型\n",
    "# saver.restore(sess, best_model_path)\n",
    "# print('Finished loading model.')\n",
    "from tqdm import tqdm\n",
    "\n",
    "# 导入测试数据\n",
    "def local_predict(epoch):\n",
    "    \"\"\"预测  valid 结果，并保存预测概率 到  scores.csv 文件中。\n",
    "    epoch: 保存的模型的轮数。\n",
    "    \"\"\"\n",
    "    local_scores_path = '/home2/huangyongye/zhihu/local_scores/f1-1-cnn-256-23457' + '-' + str(epoch) + '.npy'\n",
    "    best_model_path = '../ckpt/textcnn-fc-drop-title-content-256-23457/model.ckpt' + '-' + str(epoch)  # 导入最优模型\n",
    "    saver.restore(sess, best_model_path)\n",
    "    \n",
    "    print('local predicting ...')\n",
    "    time0 = time.time()\n",
    "    X_te = X_valid\n",
    "    n_sample = X_te.shape[0]  # 测试样本数量\n",
    "    _batch_size = 200\n",
    "    fetches = [y_pred]   \n",
    "    predict_labels_list = list()  # 所有的预测结果\n",
    "    predict_scores = list()\n",
    "    for i in tqdm(xrange(0, n_sample, _batch_size)):\n",
    "        start = i\n",
    "        end = start+_batch_size\n",
    "        if end > n_sample:\n",
    "            end = n_sample\n",
    "            _batch_size = end - start\n",
    "        X_batch = X_te[start:end]\n",
    "        X1_batch = X_batch[:, :n_step1]\n",
    "        X2_batch = X_batch[:, n_step1:]\n",
    "        feed_dict = {X1_inputs:X1_batch, X2_inputs:X2_batch, lr:1e-5,\n",
    "                     batch_size:_batch_size, keep_prob:1.0, tst:True, n_updates:global_step}\n",
    "        predict_labels = sess.run(fetches, feed_dict)[0]\n",
    "        predict_scores.append(predict_labels)\n",
    "        predict_labels = map(lambda label: label.argsort()[-1:-6:-1], predict_labels) # 取最大的5个下标\n",
    "        predict_labels_list.extend(predict_labels)\n",
    "    predict_scores = np.asarray(predict_scores)\n",
    "    predict_label_and_marked_label_list = zip(predict_labels_list, marked_labels_list)\n",
    "    precision, recall, f1 = score_eval(predict_label_and_marked_label_list)\n",
    "    print('local valid p=%g, r=%g, f1=%g; speed=%g s/epoch' % ( precision, recall, f1, time.time()-time0) )\n",
    "    np.save(local_scores_path, predict_scores)\n",
    "    print('Writed the scores into %s, time %g s' % (local_scores_path, time.time()-time0))\n",
    "    \n",
    "epoches = [9, 10, 11]\n",
    "for each in epoches:\n",
    "    local_predict(each)"
   ]
  },
  {
   "cell_type": "markdown",
   "metadata": {},
   "source": [
    "## 对测试数据进行预测"
   ]
  },
  {
   "cell_type": "code",
   "execution_count": 24,
   "metadata": {
    "collapsed": false
   },
   "outputs": [],
   "source": [
    "# 导入保存好的模型\n",
    "# saver = tf.train.Saver()\n",
    "# best_model_path = model_path + '-' + str(8)  # 导入最优模型\n",
    "# saver.restore(sess, best_model_path)\n",
    "# print('Finished loading model.')\n",
    "\n",
    "# 导入测试数据\n",
    "def predict(epoch):\n",
    "    \"\"\"预测测试集结果，并保存到  result.csv 文件中。\"\"\"\n",
    "    best_model_path = '../ckpt/textcnn-fc-drop-title-content-256-23457/model.ckpt' + '-' + str(epoch)  # 导入最优模型\n",
    "    saver.restore(sess, best_model_path)\n",
    "    scores_path = '/home2/huangyongye/zhihu/scores/f1-1-cnn-256-23457' + '-' + str(epoch) + '.npy'\n",
    "    \n",
    "    X1_te = np.load('../data/X_te_title_50.npy')\n",
    "    X2_te = np.load('../data/X_te_content_150.npy')\n",
    "    X_te = np.hstack([X1_te, X2_te])\n",
    "    n_sample = X_te.shape[0]  # 测试样本数量\n",
    "    _batch_size = 200\n",
    "    fetches = [y_pred]   \n",
    "    predict_scores = list()\n",
    "    for i in tqdm(xrange(0, n_sample, _batch_size)):\n",
    "        start = i\n",
    "        end = start+_batch_size\n",
    "        if end > n_sample:\n",
    "            end = n_sample\n",
    "            _batch_size = end - start\n",
    "        X_batch = X_te[start:end]\n",
    "        X1_batch = X_batch[:, :n_step1]\n",
    "        X2_batch = X_batch[:, n_step1:]\n",
    "        feed_dict = {X1_inputs:X1_batch, X2_inputs:X2_batch, lr:1e-5,\n",
    "                     batch_size:_batch_size, keep_prob:1.0, tst:True, n_updates:global_step}\n",
    "        predict_labels = sess.run(fetches, feed_dict)[0]\n",
    "        predict_scores.append(predict_labels)\n",
    "    predict_scores = np.asarray(predict_scores)\n",
    "    predict_scores = np.vstack(predict_scores)\n",
    "    np.save(scores_path, predict_scores)\n",
    "    print('Finished writing the result to %s' % scores_path)\n"
   ]
  },
  {
   "cell_type": "code",
   "execution_count": 25,
   "metadata": {
    "collapsed": false,
    "scrolled": false
   },
   "outputs": [
    {
     "name": "stdout",
     "output_type": "stream",
     "text": [
      "INFO:tensorflow:Restoring parameters from ../ckpt/textcnn-fc-drop-title-content-256-23457/model.ckpt-9\n"
     ]
    },
    {
     "name": "stderr",
     "output_type": "stream",
     "text": [
      "100%|██████████| 1087/1087 [00:49<00:00, 21.88it/s]\n"
     ]
    },
    {
     "name": "stdout",
     "output_type": "stream",
     "text": [
      "Finished writing the result to /home2/huangyongye/zhihu/scores/f1-1-cnn-256-23457-9.npy\n",
      "INFO:tensorflow:Restoring parameters from ../ckpt/textcnn-fc-drop-title-content-256-23457/model.ckpt-10\n"
     ]
    },
    {
     "name": "stderr",
     "output_type": "stream",
     "text": [
      "100%|██████████| 1087/1087 [00:49<00:00, 21.82it/s]\n"
     ]
    },
    {
     "name": "stdout",
     "output_type": "stream",
     "text": [
      "Finished writing the result to /home2/huangyongye/zhihu/scores/f1-1-cnn-256-23457-10.npy\n",
      "INFO:tensorflow:Restoring parameters from ../ckpt/textcnn-fc-drop-title-content-256-23457/model.ckpt-11\n"
     ]
    },
    {
     "name": "stderr",
     "output_type": "stream",
     "text": [
      "100%|██████████| 1087/1087 [00:50<00:00, 21.56it/s]\n"
     ]
    },
    {
     "name": "stdout",
     "output_type": "stream",
     "text": [
      "Finished writing the result to /home2/huangyongye/zhihu/scores/f1-1-cnn-256-23457-11.npy\n"
     ]
    }
   ],
   "source": [
    "epoches = [9, 10, 11]\n",
    "for each in epoches:\n",
    "    predict(each)"
   ]
  },
  {
   "cell_type": "code",
   "execution_count": 16,
   "metadata": {
    "collapsed": false,
    "scrolled": true
   },
   "outputs": [
    {
     "data": {
      "text/html": [
       "<div>\n",
       "<table border=\"1\" class=\"dataframe\">\n",
       "  <thead>\n",
       "    <tr style=\"text-align: right;\">\n",
       "      <th></th>\n",
       "      <th>question</th>\n",
       "      <th>tid0</th>\n",
       "      <th>tid1</th>\n",
       "      <th>tid2</th>\n",
       "      <th>tid3</th>\n",
       "      <th>tid4</th>\n",
       "    </tr>\n",
       "  </thead>\n",
       "  <tbody>\n",
       "    <tr>\n",
       "      <th>0</th>\n",
       "      <td>6215603645409872328</td>\n",
       "      <td>-7506384235581390893</td>\n",
       "      <td>4610596224687453206</td>\n",
       "      <td>2919247920214845195</td>\n",
       "      <td>-5932391056759866388</td>\n",
       "      <td>-6306904715218704629</td>\n",
       "    </tr>\n",
       "    <tr>\n",
       "      <th>1</th>\n",
       "      <td>6649324930261961840</td>\n",
       "      <td>-240041917918953337</td>\n",
       "      <td>2858911571784840089</td>\n",
       "      <td>3418451812342379591</td>\n",
       "      <td>2382911985227044227</td>\n",
       "      <td>3383016985780045156</td>\n",
       "    </tr>\n",
       "    <tr>\n",
       "      <th>2</th>\n",
       "      <td>-4251899610700378615</td>\n",
       "      <td>2919247920214845195</td>\n",
       "      <td>-5265476641576484497</td>\n",
       "      <td>-3315241959305847628</td>\n",
       "      <td>-7358589937244777363</td>\n",
       "      <td>-429636223750539488</td>\n",
       "    </tr>\n",
       "    <tr>\n",
       "      <th>3</th>\n",
       "      <td>6213817087034420233</td>\n",
       "      <td>-8655945395761165989</td>\n",
       "      <td>-4966205278807386328</td>\n",
       "      <td>5804619920623030604</td>\n",
       "      <td>7476760589625268543</td>\n",
       "      <td>244937959911721367</td>\n",
       "    </tr>\n",
       "    <tr>\n",
       "      <th>4</th>\n",
       "      <td>-8930652370334418373</td>\n",
       "      <td>3972493657017129406</td>\n",
       "      <td>-8963554618409314978</td>\n",
       "      <td>-1115593437686158905</td>\n",
       "      <td>7951349602759061249</td>\n",
       "      <td>1870872991887862017</td>\n",
       "    </tr>\n",
       "  </tbody>\n",
       "</table>\n",
       "</div>"
      ],
      "text/plain": [
       "               question                  tid0                  tid1  \\\n",
       "0   6215603645409872328  -7506384235581390893   4610596224687453206   \n",
       "1   6649324930261961840   -240041917918953337   2858911571784840089   \n",
       "2  -4251899610700378615   2919247920214845195  -5265476641576484497   \n",
       "3   6213817087034420233  -8655945395761165989  -4966205278807386328   \n",
       "4  -8930652370334418373   3972493657017129406  -8963554618409314978   \n",
       "\n",
       "                   tid2                  tid3                  tid4  \n",
       "0   2919247920214845195  -5932391056759866388  -6306904715218704629  \n",
       "1   3418451812342379591   2382911985227044227   3383016985780045156  \n",
       "2  -3315241959305847628  -7358589937244777363   -429636223750539488  \n",
       "3   5804619920623030604   7476760589625268543    244937959911721367  \n",
       "4  -1115593437686158905   7951349602759061249   1870872991887862017  "
      ]
     },
     "execution_count": 16,
     "metadata": {},
     "output_type": "execute_result"
    }
   ],
   "source": [
    "df_result.head(5)"
   ]
  },
  {
   "cell_type": "code",
   "execution_count": 9,
   "metadata": {
    "collapsed": false
   },
   "outputs": [
    {
     "data": {
      "text/html": [
       "<div>\n",
       "<table border=\"1\" class=\"dataframe\">\n",
       "  <thead>\n",
       "    <tr style=\"text-align: right;\">\n",
       "      <th></th>\n",
       "      <th>question</th>\n",
       "      <th>tid0</th>\n",
       "      <th>tid1</th>\n",
       "      <th>tid2</th>\n",
       "      <th>tid3</th>\n",
       "      <th>tid4</th>\n",
       "    </tr>\n",
       "  </thead>\n",
       "  <tbody>\n",
       "    <tr>\n",
       "      <th>0</th>\n",
       "      <td>6215603645409872328</td>\n",
       "      <td>4610596224687453206</td>\n",
       "      <td>-6839713564940654454</td>\n",
       "      <td>-6306904715218704629</td>\n",
       "      <td>2919247920214845195</td>\n",
       "      <td>-8091907016971478715</td>\n",
       "    </tr>\n",
       "    <tr>\n",
       "      <th>1</th>\n",
       "      <td>6649324930261961840</td>\n",
       "      <td>3418451812342379591</td>\n",
       "      <td>2858911571784840089</td>\n",
       "      <td>2382911985227044227</td>\n",
       "      <td>-240041917918953337</td>\n",
       "      <td>3383016985780045156</td>\n",
       "    </tr>\n",
       "    <tr>\n",
       "      <th>2</th>\n",
       "      <td>-4251899610700378615</td>\n",
       "      <td>2919247920214845195</td>\n",
       "      <td>-7358589937244777363</td>\n",
       "      <td>2816249700493135244</td>\n",
       "      <td>-5265476641576484497</td>\n",
       "      <td>-3315241959305847628</td>\n",
       "    </tr>\n",
       "    <tr>\n",
       "      <th>3</th>\n",
       "      <td>6213817087034420233</td>\n",
       "      <td>-8655945395761165989</td>\n",
       "      <td>5804619920623030604</td>\n",
       "      <td>-4966205278807386328</td>\n",
       "      <td>7476760589625268543</td>\n",
       "      <td>-2523521411748733187</td>\n",
       "    </tr>\n",
       "    <tr>\n",
       "      <th>4</th>\n",
       "      <td>-8930652370334418373</td>\n",
       "      <td>3972493657017129406</td>\n",
       "      <td>-8963554618409314978</td>\n",
       "      <td>-1115593437686158905</td>\n",
       "      <td>1870872991887862017</td>\n",
       "      <td>6018641953300645757</td>\n",
       "    </tr>\n",
       "  </tbody>\n",
       "</table>\n",
       "</div>"
      ],
      "text/plain": [
       "               question                  tid0                  tid1  \\\n",
       "0   6215603645409872328   4610596224687453206  -6839713564940654454   \n",
       "1   6649324930261961840   3418451812342379591   2858911571784840089   \n",
       "2  -4251899610700378615   2919247920214845195  -7358589937244777363   \n",
       "3   6213817087034420233  -8655945395761165989   5804619920623030604   \n",
       "4  -8930652370334418373   3972493657017129406  -8963554618409314978   \n",
       "\n",
       "                   tid2                  tid3                  tid4  \n",
       "0  -6306904715218704629   2919247920214845195  -8091907016971478715  \n",
       "1   2382911985227044227   -240041917918953337   3383016985780045156  \n",
       "2   2816249700493135244  -5265476641576484497  -3315241959305847628  \n",
       "3  -4966205278807386328   7476760589625268543  -2523521411748733187  \n",
       "4  -1115593437686158905   1870872991887862017   6018641953300645757  "
      ]
     },
     "execution_count": 9,
     "metadata": {},
     "output_type": "execute_result"
    }
   ],
   "source": [
    "# 参考结果\n",
    "df_result.head(5)"
   ]
  },
  {
   "cell_type": "markdown",
   "metadata": {},
   "source": [
    "## 在全部预测正确的情况下，理论值为：f1=0.713933\n",
    "precision=2.50273, recall=0.998873, f1=0.713933"
   ]
  },
  {
   "cell_type": "code",
   "execution_count": 26,
   "metadata": {
    "collapsed": false
   },
   "outputs": [
    {
     "name": "stdout",
     "output_type": "stream",
     "text": [
      "在全部预测正确的情况下，理论值为：\n",
      "precision=2.50273, recall=0.998873, f1=0.713933\n"
     ]
    }
   ],
   "source": [
    "# 假设全部正确，f1 值最高能到多少\n",
    "def padding_label(labels):\n",
    "    \"\"\"把所有的label补齐到长度为 5\"\"\"\n",
    "    label_len = len(labels)\n",
    "    if label_len >= 5:\n",
    "        return labels[:5]\n",
    "    return np.hstack([labels, np.zeros(5-label_len, dtype=int) - 1])\n",
    "    \n",
    "\n",
    "marked_labels_list = data_valid.y.tolist() # 所有的标注结果\n",
    "predict_labels_list = map(padding_label, marked_labels_list)\n",
    "predict_label_and_marked_label_list = zip(predict_labels_list, marked_labels_list)\n",
    "precision, recall, f1 = score_eval(predict_label_and_marked_label_list)\n",
    "print '在全部预测正确的情况下，理论值为：'\n",
    "print 'precision=%g, recall=%g, f1=%g' % (precision, recall, f1)"
   ]
  }
 ],
 "metadata": {
  "anaconda-cloud": {},
  "kernelspec": {
   "display_name": "Python [conda root]",
   "language": "python",
   "name": "conda-root-py"
  },
  "language_info": {
   "codemirror_mode": {
    "name": "ipython",
    "version": 2
   },
   "file_extension": ".py",
   "mimetype": "text/x-python",
   "name": "python",
   "nbconvert_exporter": "python",
   "pygments_lexer": "ipython2",
   "version": "2.7.12"
  }
 },
 "nbformat": 4,
 "nbformat_minor": 1
}
