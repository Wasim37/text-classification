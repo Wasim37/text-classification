{
 "cells": [
  {
   "cell_type": "markdown",
   "metadata": {},
   "source": [
    "# 原始数据分析"
   ]
  },
  {
   "cell_type": "markdown",
   "metadata": {},
   "source": [
    "## 训练数据中类别分布\n",
    "question_topic_train_set.txt \n",
    "\n",
    "问题与话题标签的绑定关系。一共有两列，各个列之间用 \\t 分割。注意，如果一个问题绑定了多个话题标签，这些标签是无序的。格式如下：\n",
    "\n",
    "question_id topic_id1,topic_id2...topic_idn"
   ]
  },
  {
   "cell_type": "code",
   "execution_count": 1,
   "metadata": {
    "collapsed": true
   },
   "outputs": [],
   "source": [
    "import pandas as pd\n",
    "import numpy as np\n",
    "import matplotlib.pyplot as plt \n",
    "import pickle \n",
    "from tqdm import tqdm\n",
    "from __future__ import division\n",
    "import time\n",
    "import os"
   ]
  },
  {
   "cell_type": "code",
   "execution_count": 2,
   "metadata": {
    "collapsed": false
   },
   "outputs": [
    {
     "data": {
      "text/html": [
       "<div>\n",
       "<table border=\"1\" class=\"dataframe\">\n",
       "  <thead>\n",
       "    <tr style=\"text-align: right;\">\n",
       "      <th></th>\n",
       "      <th>question_id</th>\n",
       "      <th>topic_ids</th>\n",
       "    </tr>\n",
       "  </thead>\n",
       "  <tbody>\n",
       "    <tr>\n",
       "      <th>0</th>\n",
       "      <td>6555699376639805223</td>\n",
       "      <td>7739004195693774975,3738968195649774859</td>\n",
       "    </tr>\n",
       "    <tr>\n",
       "      <th>1</th>\n",
       "      <td>2887834264226772863</td>\n",
       "      <td>-3149765934180654494</td>\n",
       "    </tr>\n",
       "  </tbody>\n",
       "</table>\n",
       "</div>"
      ],
      "text/plain": [
       "           question_id                                topic_ids\n",
       "0  6555699376639805223  7739004195693774975,3738968195649774859\n",
       "1  2887834264226772863                     -3149765934180654494"
      ]
     },
     "execution_count": 2,
     "metadata": {},
     "output_type": "execute_result"
    }
   ],
   "source": [
    "df_qtopic = pd.read_csv('../raw_data/question_topic_train_set.txt', sep='\\t', names=['question_id', 'topic_ids'], \n",
    "                        dtype={'question_id': object, 'topic_ids': object})  # question_topic\n",
    "df_qtopic.head(2)"
   ]
  },
  {
   "cell_type": "code",
   "execution_count": 3,
   "metadata": {
    "collapsed": false
   },
   "outputs": [
    {
     "name": "stdout",
     "output_type": "stream",
     "text": [
      "训练数据中一共有2999967个问题\n",
      "max_num=19, min_num=1, mean_num=2\n"
     ]
    },
    {
     "data": {
      "text/html": [
       "<div>\n",
       "<table border=\"1\" class=\"dataframe\">\n",
       "  <thead>\n",
       "    <tr style=\"text-align: right;\">\n",
       "      <th></th>\n",
       "      <th>question_id</th>\n",
       "      <th>topic_ids</th>\n",
       "      <th>topic_num</th>\n",
       "    </tr>\n",
       "  </thead>\n",
       "  <tbody>\n",
       "    <tr>\n",
       "      <th>0</th>\n",
       "      <td>6555699376639805223</td>\n",
       "      <td>[7739004195693774975, 3738968195649774859]</td>\n",
       "      <td>2</td>\n",
       "    </tr>\n",
       "    <tr>\n",
       "      <th>1</th>\n",
       "      <td>2887834264226772863</td>\n",
       "      <td>[-3149765934180654494]</td>\n",
       "      <td>1</td>\n",
       "    </tr>\n",
       "  </tbody>\n",
       "</table>\n",
       "</div>"
      ],
      "text/plain": [
       "           question_id                                   topic_ids  topic_num\n",
       "0  6555699376639805223  [7739004195693774975, 3738968195649774859]          2\n",
       "1  2887834264226772863                      [-3149765934180654494]          1"
      ]
     },
     "execution_count": 3,
     "metadata": {},
     "output_type": "execute_result"
    }
   ],
   "source": [
    "print '训练数据中一共有%d个问题' % len(df_qtopic)\n",
    "df_qtopic['topic_ids'] = df_qtopic.topic_ids.apply(lambda ids: ids.split(','))\n",
    "df_qtopic['topic_num'] = df_qtopic.topic_ids.apply(lambda ids: len(ids))\n",
    "max_ids_num = max(df_qtopic.topic_num.values)\n",
    "min_ids_num = min(df_qtopic.topic_num.values)\n",
    "mean_ids_num = np.mean(df_qtopic.topic_num.values)\n",
    "print 'max_num=%d, min_num=%d, mean_num=%d' % (max_ids_num, min_ids_num, mean_ids_num)\n",
    "df_qtopic.head(2)"
   ]
  },
  {
   "cell_type": "markdown",
   "metadata": {},
   "source": [
    "## 标签中问题的顺序"
   ]
  },
  {
   "cell_type": "code",
   "execution_count": 24,
   "metadata": {
    "collapsed": true
   },
   "outputs": [],
   "source": [
    "questions1 = df_qtopic.question_id.values"
   ]
  },
  {
   "cell_type": "markdown",
   "metadata": {},
   "source": [
    "## 每个问题的标签数量分布"
   ]
  },
  {
   "cell_type": "code",
   "execution_count": 4,
   "metadata": {
    "collapsed": false
   },
   "outputs": [
    {
     "data": {
      "text/plain": [
       "<matplotlib.figure.Figure at 0x7fb13fcd3690>"
      ]
     },
     "metadata": {},
     "output_type": "display_data"
    },
    {
     "data": {
      "image/png": "[encoded data removed]",
      "text/plain": [
       "<matplotlib.figure.Figure at 0x7fb129472410>"
      ]
     },
     "metadata": {},
     "output_type": "display_data"
    }
   ],
   "source": [
    "topic_num_count = df_qtopic.topic_num.value_counts()\n",
    "labels = topic_num_count.index\n",
    "sizes = topic_num_count.values\n",
    "\n",
    "y_pos = np.arange(len(sizes))\n",
    "\n",
    "plt.clf()\n",
    "fig, ax = plt.subplots()\n",
    "ax.barh(y_pos, sizes, align='center', linewidth=0.5)\n",
    "ax.set_yticks(y_pos)\n",
    "ax.set_yticklabels(labels)\n",
    "# 标上数值\n",
    "for x,y in zip(sizes, y_pos):\n",
    "    ax.text(x+8, y+0.3, '%d'%x)\n",
    "ax.invert_yaxis()  # labels read top-to-bottom\n",
    "ax.set_xlabel('question_number')\n",
    "ax.set_ylabel('topic_number')\n",
    "# plt.savefig('../figs/3-tags_distribution.png', dpi=300)\n",
    "plt.show()"
   ]
  },
  {
   "cell_type": "markdown",
   "metadata": {},
   "source": [
    "在训练集中一共提供了将近 **300万 个问题**，每个问题平均有 **2** 个话题标签。"
   ]
  },
  {
   "cell_type": "markdown",
   "metadata": {},
   "source": [
    "## 话题总数与每个话题的问题数量"
   ]
  },
  {
   "cell_type": "code",
   "execution_count": 5,
   "metadata": {
    "collapsed": false,
    "scrolled": true
   },
   "outputs": [
    {
     "name": "stdout",
     "output_type": "stream",
     "text": [
      "话题总频数\u001b[1;35m 7022750 \u001b[0m\n",
      "不同的话题个数 \u001b[1;35m 1999 \u001b[0m\t\n"
     ]
    }
   ],
   "source": [
    "from itertools import chain\n",
    "\n",
    "topic_ids = list(chain(*(df_qtopic.topic_ids.values)))\n",
    "print '话题总频数\\033[1;35m %d \\033[0m' % len(topic_ids)\n",
    "\n",
    "sr_topic_ids = pd.Series(topic_ids)\n",
    "topic_ids_count = sr_topic_ids.value_counts()\n",
    "ids = topic_ids_count.index\n",
    "id_count = topic_ids_count.values\n",
    "print '不同的话题个数 \\033[1;35m %d \\033[0m\\t' % len(ids)"
   ]
  },
  {
   "cell_type": "markdown",
   "metadata": {},
   "source": [
    "每个话题下面问题的数量"
   ]
  },
  {
   "cell_type": "code",
   "execution_count": 6,
   "metadata": {
    "collapsed": false,
    "scrolled": true
   },
   "outputs": [
    {
     "name": "stdout",
     "output_type": "stream",
     "text": [
      "最多 \u001b[1;35m 66259 \u001b[0m 个问题\n",
      "最少 \u001b[1;35m 1636 \u001b[0m 个问题\n",
      "平均 \u001b[1;35m 3513 \u001b[0m 个问题\n"
     ]
    }
   ],
   "source": [
    "print '最多 \\033[1;35m %d \\033[0m 个问题' % max(id_count)\n",
    "print '最少 \\033[1;35m %d \\033[0m 个问题' % min(id_count) \n",
    "print '平均 \\033[1;35m %d \\033[0m 个问题' % np.mean(id_count) "
   ]
  },
  {
   "cell_type": "code",
   "execution_count": 7,
   "metadata": {
    "collapsed": false
   },
   "outputs": [
    {
     "data": {
      "image/png": "[encoded data removed]",
      "text/plain": [
       "<matplotlib.figure.Figure at 0x7f71fc391210>"
      ]
     },
     "metadata": {},
     "output_type": "display_data"
    }
   ],
   "source": [
    "x_pot = np.arange(len(ids)) + 1\n",
    "plt.bar(x_pot, id_count)\n",
    "plt.xlabel('id_name')\n",
    "plt.ylabel('id_count')\n",
    "plt.grid()\n",
    "plt.show()"
   ]
  },
  {
   "cell_type": "markdown",
   "metadata": {},
   "source": [
    "从上面的分布来看，这 1999 类数据的分布还算比较均衡，样本比较多的类别应该是 topic 层次比较高的话题。"
   ]
  },
  {
   "cell_type": "markdown",
   "metadata": {},
   "source": [
    "## 测试数据分析"
   ]
  },
  {
   "cell_type": "code",
   "execution_count": 7,
   "metadata": {
    "collapsed": false
   },
   "outputs": [
    {
     "name": "stdout",
     "output_type": "stream",
     "text": [
      "测试问题数量 \u001b[1;35m 217360 \u001b[0m \n"
     ]
    }
   ],
   "source": [
    "df_eval = pd.read_csv('../raw_data/question_eval_set.txt', sep='\\t', names=['question_id', 'ch_title', 'word_title', 'ch_content', 'word_content'],\n",
    "                     dtype={'question_id': object})\n",
    "print '测试问题数量 \\033[1;35m %d \\033[0m ' % len(df_eval)"
   ]
  },
  {
   "cell_type": "code",
   "execution_count": 8,
   "metadata": {
    "collapsed": false,
    "scrolled": true
   },
   "outputs": [
    {
     "data": {
      "text/html": [
       "<div>\n",
       "<table border=\"1\" class=\"dataframe\">\n",
       "  <thead>\n",
       "    <tr style=\"text-align: right;\">\n",
       "      <th></th>\n",
       "      <th>question_id</th>\n",
       "      <th>ch_title</th>\n",
       "      <th>word_title</th>\n",
       "      <th>ch_content</th>\n",
       "      <th>word_content</th>\n",
       "    </tr>\n",
       "  </thead>\n",
       "  <tbody>\n",
       "    <tr>\n",
       "      <th>0</th>\n",
       "      <td>6215603645409872328</td>\n",
       "      <td>c924,c531,c102,c284,c188,c104,c98,c107,c11,c11...</td>\n",
       "      <td>w1340,w1341,w55,w1344,w58,w6,w24178,w26959,w47...</td>\n",
       "      <td>c1128,c529,c636,c572,c1321,c139,c540,c223,c510...</td>\n",
       "      <td>w4094,w1618,w20104,w19234,w1097,w1005,w4228,w2...</td>\n",
       "    </tr>\n",
       "    <tr>\n",
       "      <th>1</th>\n",
       "      <td>6649324930261961840</td>\n",
       "      <td>c346,c1549,c413,c294,c675,c504,c183,c74,c541,c...</td>\n",
       "      <td>w40132,w1357,w1556,w1380,w2464,w33,w16791,w109...</td>\n",
       "      <td>NaN</td>\n",
       "      <td>NaN</td>\n",
       "    </tr>\n",
       "    <tr>\n",
       "      <th>2</th>\n",
       "      <td>-4251899610700378615</td>\n",
       "      <td>c96,c97,c97,c98,c99,c100,c101,c141,c42,c42,c10...</td>\n",
       "      <td>w53,w54,w1779,w54,w1309,w54,w369,w949,w65587,w...</td>\n",
       "      <td>c149,c148,c148,c42,c185,c95,c95,c186,c186,c186...</td>\n",
       "      <td>NaN</td>\n",
       "    </tr>\n",
       "  </tbody>\n",
       "</table>\n",
       "</div>"
      ],
      "text/plain": [
       "            question_id                                           ch_title  \\\n",
       "0   6215603645409872328  c924,c531,c102,c284,c188,c104,c98,c107,c11,c11...   \n",
       "1   6649324930261961840  c346,c1549,c413,c294,c675,c504,c183,c74,c541,c...   \n",
       "2  -4251899610700378615  c96,c97,c97,c98,c99,c100,c101,c141,c42,c42,c10...   \n",
       "\n",
       "                                          word_title  \\\n",
       "0  w1340,w1341,w55,w1344,w58,w6,w24178,w26959,w47...   \n",
       "1  w40132,w1357,w1556,w1380,w2464,w33,w16791,w109...   \n",
       "2  w53,w54,w1779,w54,w1309,w54,w369,w949,w65587,w...   \n",
       "\n",
       "                                          ch_content  \\\n",
       "0  c1128,c529,c636,c572,c1321,c139,c540,c223,c510...   \n",
       "1                                                NaN   \n",
       "2  c149,c148,c148,c42,c185,c95,c95,c186,c186,c186...   \n",
       "\n",
       "                                        word_content  \n",
       "0  w4094,w1618,w20104,w19234,w1097,w1005,w4228,w2...  \n",
       "1                                                NaN  \n",
       "2                                                NaN  "
      ]
     },
     "execution_count": 8,
     "metadata": {},
     "output_type": "execute_result"
    }
   ],
   "source": [
    "df_eval.head(3)"
   ]
  },
  {
   "cell_type": "code",
   "execution_count": 9,
   "metadata": {
    "collapsed": false
   },
   "outputs": [
    {
     "name": "stdout",
     "output_type": "stream",
     "text": [
      "没有内容的问题 \u001b[1;35m 55179 \u001b[0m  \n",
      "一共有 0.25386 没有问题描述\n"
     ]
    }
   ],
   "source": [
    "na_count = 0\n",
    "ch_contents = df_eval.ch_content.values\n",
    "for ch_content in ch_contents:\n",
    "    if type(ch_content) is float:\n",
    "        na_count += 1\n",
    "print '没有内容的问题 \\033[1;35m %d \\033[0m  ' % na_count\n",
    "print '一共有 %g 没有问题描述' % (na_count / len(df_eval))"
   ]
  },
  {
   "cell_type": "markdown",
   "metadata": {},
   "source": [
    "在测试集中，一共有 25.38% 没有问题描述。**有 3 个问题的 title 分词丢失了。暂时使用 ch 来替代.**"
   ]
  },
  {
   "cell_type": "code",
   "execution_count": 10,
   "metadata": {
    "collapsed": false
   },
   "outputs": [
    {
     "name": "stdout",
     "output_type": "stream",
     "text": [
      "110081\n",
      "166420\n",
      "194409\n",
      "没有题目的问题数量 \u001b[1;35m 3 \u001b[0m  \n"
     ]
    }
   ],
   "source": [
    "word_titles = df_eval.word_title.values\n",
    "\n",
    "na_count = 0\n",
    "na_indexs = list()\n",
    "for i in xrange(len(word_titles)):\n",
    "    word_title = word_titles[i]\n",
    "    if type(word_title) is float:\n",
    "        na_indexs.append(i)\n",
    "        na_count += 1\n",
    "        print i\n",
    "        \n",
    "print '没有题目的问题数量 \\033[1;35m %d \\033[0m  ' % na_count\n",
    "\n",
    "for na_index in na_indexs:\n",
    "    df_eval.loc[na_index, 'word_title'] = df_eval.loc[na_index, 'ch_title']"
   ]
  },
  {
   "cell_type": "code",
   "execution_count": 11,
   "metadata": {
    "collapsed": false
   },
   "outputs": [
    {
     "data": {
      "text/plain": [
       "question_id                                  -4720539803178200791\n",
       "ch_title        c149,c148,c148,c42,c185,c95,c95,c42,c147,c104,...\n",
       "word_title      c149,c148,c148,c42,c185,c95,c95,c42,c147,c104,...\n",
       "ch_content      c41,c147,c101,c149,c144,c100,c279,c277,c278,c1...\n",
       "word_content                     w3856,w6,w11610,w469,w625,w31521\n",
       "Name: 194409, dtype: object"
      ]
     },
     "execution_count": 11,
     "metadata": {},
     "output_type": "execute_result"
    }
   ],
   "source": [
    "df_eval.iloc[194409]"
   ]
  },
  {
   "cell_type": "code",
   "execution_count": 12,
   "metadata": {
    "collapsed": true
   },
   "outputs": [],
   "source": [
    "# 话题 title\n",
    "df_eval['word_title'] = df_eval.word_title.apply(lambda text: text.split(','))\n",
    "df_eval['ch_title'] = df_eval.ch_title.apply(lambda text: text.split(','))\n",
    "df_eval['wdtitle_len'] = df_eval.word_title.apply(lambda ws: len(ws))\n",
    "df_eval['chtitle_len'] = df_eval.ch_title.apply(lambda chs: len(chs))\n",
    "# 将 描述非空的部分提取出来分析"
   ]
  },
  {
   "cell_type": "code",
   "execution_count": 13,
   "metadata": {
    "collapsed": false
   },
   "outputs": [
    {
     "name": "stdout",
     "output_type": "stream",
     "text": [
      "非空描述数量 157126 \n"
     ]
    }
   ],
   "source": [
    "index_content = df_eval.word_content.apply(lambda wc: type(wc) is not float)\n",
    "print '非空描述数量 %d ' % sum(index_content)\n",
    "df_eval_content = df_eval.loc[index_content, :].copy()  # 把带有描述部分取出来\n",
    "# 话题 描述\n",
    "df_eval_content['word_content'] = df_eval_content.word_content.apply(lambda text: text.split(','))\n",
    "df_eval_content['ch_content'] = df_eval_content.ch_content.apply(lambda text: text.split(','))\n",
    "df_eval_content['wdcontent_len'] = df_eval_content.word_content.apply(lambda ws: len(ws))\n",
    "df_eval_content['chcontent_len'] = df_eval_content.ch_content.apply(lambda chs: len(chs))"
   ]
  },
  {
   "cell_type": "code",
   "execution_count": 14,
   "metadata": {
    "collapsed": false
   },
   "outputs": [
    {
     "data": {
      "text/html": [
       "<div>\n",
       "<table border=\"1\" class=\"dataframe\">\n",
       "  <thead>\n",
       "    <tr style=\"text-align: right;\">\n",
       "      <th></th>\n",
       "      <th>question_id</th>\n",
       "      <th>ch_title</th>\n",
       "      <th>word_title</th>\n",
       "      <th>ch_content</th>\n",
       "      <th>word_content</th>\n",
       "      <th>wdtitle_len</th>\n",
       "      <th>chtitle_len</th>\n",
       "      <th>wdcontent_len</th>\n",
       "      <th>chcontent_len</th>\n",
       "    </tr>\n",
       "  </thead>\n",
       "  <tbody>\n",
       "    <tr>\n",
       "      <th>0</th>\n",
       "      <td>6215603645409872328</td>\n",
       "      <td>[c924, c531, c102, c284, c188, c104, c98, c107...</td>\n",
       "      <td>[w1340, w1341, w55, w1344, w58, w6, w24178, w2...</td>\n",
       "      <td>[c1128, c529, c636, c572, c1321, c139, c540, c...</td>\n",
       "      <td>[w4094, w1618, w20104, w19234, w1097, w1005, w...</td>\n",
       "      <td>18</td>\n",
       "      <td>29</td>\n",
       "      <td>22</td>\n",
       "      <td>37</td>\n",
       "    </tr>\n",
       "    <tr>\n",
       "      <th>3</th>\n",
       "      <td>6213817087034420233</td>\n",
       "      <td>[c504, c157, c221, c221, c633, c468, c469, c16...</td>\n",
       "      <td>[w5083, w12537, w10427, w29724, w6, w2566, w11...</td>\n",
       "      <td>[c15, c131, c39, c40, c85, c166, c969, c2456, ...</td>\n",
       "      <td>[w2550, w24, w239, w98, w19456, w11, w108710, ...</td>\n",
       "      <td>12</td>\n",
       "      <td>23</td>\n",
       "      <td>13</td>\n",
       "      <td>21</td>\n",
       "    </tr>\n",
       "  </tbody>\n",
       "</table>\n",
       "</div>"
      ],
      "text/plain": [
       "           question_id                                           ch_title  \\\n",
       "0  6215603645409872328  [c924, c531, c102, c284, c188, c104, c98, c107...   \n",
       "3  6213817087034420233  [c504, c157, c221, c221, c633, c468, c469, c16...   \n",
       "\n",
       "                                          word_title  \\\n",
       "0  [w1340, w1341, w55, w1344, w58, w6, w24178, w2...   \n",
       "3  [w5083, w12537, w10427, w29724, w6, w2566, w11...   \n",
       "\n",
       "                                          ch_content  \\\n",
       "0  [c1128, c529, c636, c572, c1321, c139, c540, c...   \n",
       "3  [c15, c131, c39, c40, c85, c166, c969, c2456, ...   \n",
       "\n",
       "                                        word_content  wdtitle_len  \\\n",
       "0  [w4094, w1618, w20104, w19234, w1097, w1005, w...           18   \n",
       "3  [w2550, w24, w239, w98, w19456, w11, w108710, ...           12   \n",
       "\n",
       "   chtitle_len  wdcontent_len  chcontent_len  \n",
       "0           29             22             37  \n",
       "3           23             13             21  "
      ]
     },
     "execution_count": 14,
     "metadata": {},
     "output_type": "execute_result"
    }
   ],
   "source": [
    "df_eval_content.head(2)"
   ]
  },
  {
   "cell_type": "markdown",
   "metadata": {},
   "source": [
    "### 测试集话题题目长度分布"
   ]
  },
  {
   "cell_type": "code",
   "execution_count": 15,
   "metadata": {
    "collapsed": false
   },
   "outputs": [
    {
     "name": "stdout",
     "output_type": "stream",
     "text": [
      "** title 长度（词数）\n",
      "max = 76， min = 1, mean = 12, median = 11\n"
     ]
    }
   ],
   "source": [
    "wdtitle_len = df_eval.wdtitle_len.values\n",
    "max_len = max(wdtitle_len)\n",
    "min_len = min(wdtitle_len)\n",
    "mean_len = np.mean(wdtitle_len)\n",
    "median_len = np.median(wdtitle_len)\n",
    "print '** title 长度（词数）'\n",
    "print 'max = %d， min = %d, mean = %d, median = %d' % (max_len, min_len, mean_len, median_len)"
   ]
  },
  {
   "cell_type": "code",
   "execution_count": 20,
   "metadata": {
    "collapsed": false
   },
   "outputs": [
    {
     "data": {
      "image/png": "[encoded data removed]",
      "text/plain": [
       "<matplotlib.figure.Figure at 0x7fb064326090>"
      ]
     },
     "metadata": {},
     "output_type": "display_data"
    }
   ],
   "source": [
    "plt.hist(wdtitle_len, bins = 20, range=(40, 60))\n",
    "plt.xlabel('sdtitle_len')\n",
    "plt.ylabel('question_number')\n",
    "plt.grid()\n",
    "plt.show()"
   ]
  },
  {
   "cell_type": "markdown",
   "metadata": {},
   "source": [
    "title取最长长度为50；\n",
    "\n",
    "title 的最后一个词最多的是 ？ 此外还要找到句号或者叹号便于进行句子切分。"
   ]
  },
  {
   "cell_type": "markdown",
   "metadata": {},
   "source": [
    "### 测试集话题描述长度分布"
   ]
  },
  {
   "cell_type": "code",
   "execution_count": 21,
   "metadata": {
    "collapsed": false
   },
   "outputs": [
    {
     "name": "stdout",
     "output_type": "stream",
     "text": [
      "** content 长度（词数）\n",
      "max = 2409， min = 1, mean = 80, median = 40\n"
     ]
    },
    {
     "data": {
      "image/png": "[encoded data removed]",
      "text/plain": [
       "<matplotlib.figure.Figure at 0x7fb118b9d150>"
      ]
     },
     "metadata": {},
     "output_type": "display_data"
    }
   ],
   "source": [
    "wdcontent_len = df_eval_content.wdcontent_len.values\n",
    "max_len = max(wdcontent_len)\n",
    "min_len = min(wdcontent_len)\n",
    "mean_len = np.mean(wdcontent_len)\n",
    "median_len = np.median(wdcontent_len)\n",
    "print '** content 长度（词数）'\n",
    "print 'max = %d， min = %d, mean = %d, median = %d' % (max_len, min_len, mean_len, median_len)\n",
    "\n",
    "plt.hist(wdcontent_len, bins = 200, range=(0, 200))\n",
    "plt.xlabel('wdcontent_len')\n",
    "plt.ylabel('question_number')\n",
    "plt.grid()\n",
    "plt.show()"
   ]
  },
  {
   "cell_type": "markdown",
   "metadata": {},
   "source": [
    "--------"
   ]
  },
  {
   "cell_type": "markdown",
   "metadata": {},
   "source": [
    "## 训练集数据分析"
   ]
  },
  {
   "cell_type": "code",
   "execution_count": null,
   "metadata": {
    "collapsed": true
   },
   "outputs": [],
   "source": [
    "%time df_train = pd.read_csv('../raw_data/question_train_set.txt', sep='\\t', names=['question_id', 'ch_title', 'word_title', 'ch_content', 'word_content'],dtype={'question_id': object})\n",
    "print '训练集问题数量 \\033[1;35m %d \\033[0m ' % len(df_train)\n",
    "df_train.head(2)"
   ]
  },
  {
   "cell_type": "code",
   "execution_count": 2,
   "metadata": {
    "collapsed": false
   },
   "outputs": [
    {
     "name": "stdout",
     "output_type": "stream",
     "text": [
      "CPU times: user 26.4 s, sys: 1.58 s, total: 28 s\n",
      "Wall time: 36.6 s\n",
      "训练集问题数量 \u001b[1;35m 2999967 \u001b[0m \n"
     ]
    },
    {
     "data": {
      "text/html": [
       "<div>\n",
       "<table border=\"1\" class=\"dataframe\">\n",
       "  <thead>\n",
       "    <tr style=\"text-align: right;\">\n",
       "      <th></th>\n",
       "      <th>word_title</th>\n",
       "      <th>word_content</th>\n",
       "    </tr>\n",
       "  </thead>\n",
       "  <tbody>\n",
       "    <tr>\n",
       "      <th>0</th>\n",
       "      <td>w305,w13549,w22752,w11,w7225,w2565,w1106,w16,w...</td>\n",
       "      <td>w231,w54,w1681,w54,w11506,w5714,w7,w54,w744,w1...</td>\n",
       "    </tr>\n",
       "    <tr>\n",
       "      <th>1</th>\n",
       "      <td>w377,w54,w285,w57,w349,w54,w108215,w6,w47986,w...</td>\n",
       "      <td>w12508,w1380,w72,w27045,w276,w111</td>\n",
       "    </tr>\n",
       "  </tbody>\n",
       "</table>\n",
       "</div>"
      ],
      "text/plain": [
       "                                          word_title  \\\n",
       "0  w305,w13549,w22752,w11,w7225,w2565,w1106,w16,w...   \n",
       "1  w377,w54,w285,w57,w349,w54,w108215,w6,w47986,w...   \n",
       "\n",
       "                                        word_content  \n",
       "0  w231,w54,w1681,w54,w11506,w5714,w7,w54,w744,w1...  \n",
       "1                  w12508,w1380,w72,w27045,w276,w111  "
      ]
     },
     "execution_count": 2,
     "metadata": {},
     "output_type": "execute_result"
    }
   ],
   "source": [
    "%time df_train = pd.read_csv('../raw_data/question_train_set.txt', sep='\\t', usecols=[2, 4], names=[ 'word_title','word_content'],dtype={'question_id': object})\n",
    "print '训练集问题数量 \\033[1;35m %d \\033[0m ' % len(df_train)\n",
    "df_train.head(2)"
   ]
  },
  {
   "cell_type": "code",
   "execution_count": 3,
   "metadata": {
    "collapsed": false
   },
   "outputs": [
    {
     "name": "stdout",
     "output_type": "stream",
     "text": [
      "一共有213580879个词；词典大小为570782\n",
      "time costed 103.478s\n"
     ]
    }
   ],
   "source": [
    "from itertools import chain\n",
    "\n",
    "# 统计所有的词数\n",
    "def split_words(ss):\n",
    "    if type(ss) is float:\n",
    "        return []\n",
    "    return ss.split(',')\n",
    "time0 = time.time()\n",
    "words_content = map(split_words, df_train.word_content.values)\n",
    "words_title = map(split_words, df_train.word_title.values)\n",
    "words_content = list(chain(*words_content))\n",
    "words_title = list(chain(*words_title))\n",
    "words = words_content + words_title\n",
    "sr_words = pd.Series(words)\n",
    "words_count = sr_words.value_counts()\n",
    "print('一共有%d个词；词典大小为%d' %(len(words), len(words_count)))\n",
    "print('time costed %gs' % (time.time()-time0))"
   ]
  },
  {
   "cell_type": "code",
   "execution_count": 10,
   "metadata": {
    "collapsed": false
   },
   "outputs": [
    {
     "name": "stdout",
     "output_type": "stream",
     "text": [
      "17107\n"
     ]
    }
   ],
   "source": [
    "print(words_count['w1111'])"
   ]
  },
  {
   "cell_type": "code",
   "execution_count": 25,
   "metadata": {
    "collapsed": false
   },
   "outputs": [
    {
     "name": "stdout",
     "output_type": "stream",
     "text": [
      "2999967\n",
      "2999967\n"
     ]
    }
   ],
   "source": [
    "questions2 = df_train.question_id.values\n",
    "print sum(questions1 == questions2)\n",
    "print len(questions1)"
   ]
  },
  {
   "cell_type": "code",
   "execution_count": 26,
   "metadata": {
    "collapsed": false,
    "scrolled": true
   },
   "outputs": [
    {
     "name": "stdout",
     "output_type": "stream",
     "text": [
      "没有内容的问题 \u001b[1;35m 765049 \u001b[0m  \n",
      "一共有 0.255019 没有问题描述\n"
     ]
    }
   ],
   "source": [
    "na_count = 0\n",
    "ch_contents = df_train.ch_content.values\n",
    "for ch_content in ch_contents:\n",
    "    if type(ch_content) is float:\n",
    "        na_count += 1\n",
    "print '没有内容的问题 \\033[1;35m %d \\033[0m  ' % na_count\n",
    "print '一共有 %g 没有问题描述' % (na_count / len(df_train))"
   ]
  },
  {
   "cell_type": "code",
   "execution_count": 4,
   "metadata": {
    "collapsed": false
   },
   "outputs": [
    {
     "name": "stdout",
     "output_type": "stream",
     "text": [
      "328877\n",
      "422123\n",
      "633584\n",
      "768738\n",
      "818616\n",
      "876828\n",
      "1273673\n",
      "1527297\n",
      "1636237\n",
      "1682969\n",
      "2052477\n",
      "2628516\n",
      "2657464\n",
      "2904162\n",
      "2993517\n",
      "没有题目的问题数量 \u001b[1;35m 15 \u001b[0m  \n"
     ]
    }
   ],
   "source": [
    "word_titles = df_train.word_title.values\n",
    "\n",
    "na_count = 0\n",
    "na_indexs = list()\n",
    "for i in xrange(len(word_titles)):\n",
    "    word_title = word_titles[i]\n",
    "    if type(word_title) is float:\n",
    "        na_indexs.append(i)\n",
    "        na_count += 1\n",
    "        print i\n",
    "        \n",
    "print '没有题目的问题数量 \\033[1;35m %d \\033[0m  ' % na_count\n",
    "\n",
    "# for na_index in na_indexs:\n",
    "#     df_train.loc[na_index, 'word_title'] = df_train.loc[na_index, 'ch_title']\n",
    "df_train = df_train.drop(na_indexs) # 将没有title的数据直接丢弃"
   ]
  },
  {
   "cell_type": "code",
   "execution_count": 5,
   "metadata": {
    "collapsed": false
   },
   "outputs": [
    {
     "name": "stdout",
     "output_type": "stream",
     "text": [
      "** content 长度（词数）\n",
      "max = 187， min = 1, mean = 12, median = 11\n"
     ]
    }
   ],
   "source": [
    "df_train['word_title'] = df_train.word_title.apply(lambda text: text.split(','))\n",
    "df_train['ch_title'] = df_train.ch_title.apply(lambda text: text.split(','))\n",
    "df_train['wdtitle_len'] = df_train.word_title.apply(lambda ws: len(ws))\n",
    "df_train['chtitle_len'] = df_train.ch_title.apply(lambda chs: len(chs))\n",
    "\n",
    "wdtitle_len = df_train.wdtitle_len.values\n",
    "max_len = max(wdtitle_len)\n",
    "min_len = min(wdtitle_len)\n",
    "mean_len = np.mean(wdtitle_len)\n",
    "median_len = np.median(wdtitle_len)\n",
    "print '** content 长度（词数）'\n",
    "print 'max = %d， min = %d, mean = %d, median = %d' % (max_len, min_len, mean_len, median_len)"
   ]
  },
  {
   "cell_type": "code",
   "execution_count": 6,
   "metadata": {
    "collapsed": false
   },
   "outputs": [
    {
     "data": {
      "image/png": "[encoded data removed]",
      "text/plain": [
       "<matplotlib.figure.Figure at 0x7f121b035ed0>"
      ]
     },
     "metadata": {},
     "output_type": "display_data"
    }
   ],
   "source": [
    "plt.hist(wdtitle_len, bins = 40, range=(0, 40))\n",
    "plt.xlabel('sdtitle_len')\n",
    "plt.ylabel('question_number')\n",
    "plt.title('train question words num')\n",
    "plt.grid()\n",
    "plt.show()"
   ]
  },
  {
   "cell_type": "code",
   "execution_count": 29,
   "metadata": {
    "collapsed": false
   },
   "outputs": [
    {
     "data": {
      "image/png": "[encoded data removed]",
      "text/plain": [
       "<matplotlib.figure.Figure at 0x7fb064184dd0>"
      ]
     },
     "metadata": {},
     "output_type": "display_data"
    }
   ],
   "source": [
    "plt.hist(wdtitle_len, bins = 40, range=(40, 80))\n",
    "plt.xlabel('sdtitle_len')\n",
    "plt.ylabel('question_number')\n",
    "plt.title('train question words num')\n",
    "plt.grid()\n",
    "plt.show()"
   ]
  },
  {
   "cell_type": "markdown",
   "metadata": {},
   "source": [
    "### 训练话题描述长度分布"
   ]
  },
  {
   "cell_type": "code",
   "execution_count": 32,
   "metadata": {
    "collapsed": true
   },
   "outputs": [],
   "source": [
    "from nltk import FreqDist  "
   ]
  },
  {
   "cell_type": "code",
   "execution_count": 30,
   "metadata": {
    "collapsed": false
   },
   "outputs": [
    {
     "name": "stdout",
     "output_type": "stream",
     "text": [
      "非空描述数量 2165150 \n"
     ]
    }
   ],
   "source": [
    "index_content = df_train.word_content.apply(lambda wc: type(wc) is not float)\n",
    "print '非空描述数量 %d ' % sum(index_content)\n",
    "df_train_content = df_train.loc[index_content, :].copy()  # 把带有描述部分取出来\n",
    "# 话题 描述\n",
    "df_train_content['word_content'] = df_train_content.word_content.apply(lambda text: text.split(','))\n",
    "df_train_content['ch_content'] = df_train_content.ch_content.apply(lambda text: text.split(','))\n",
    "df_train_content['wdcontent_len'] = df_train_content.word_content.apply(lambda ws: len(ws))\n",
    "df_train_content['chcontent_len'] = df_train_content.ch_content.apply(lambda chs: len(chs))"
   ]
  },
  {
   "cell_type": "code",
   "execution_count": 40,
   "metadata": {
    "collapsed": false
   },
   "outputs": [
    {
     "name": "stdout",
     "output_type": "stream",
     "text": [
      "<FreqDist with 1990 samples and 2165150 outcomes>\n",
      "[1, 2, 3, 4, 5, 6, 7, 8, 9, 10]\n"
     ]
    },
    {
     "data": {
      "image/png": "[encoded data removed]",
      "text/plain": [
       "<matplotlib.figure.Figure at 0x7fa8dd91a3d0>"
      ]
     },
     "metadata": {},
     "output_type": "display_data"
    }
   ],
   "source": [
    "# 统计长度分布\n",
    "fdist1 = FreqDist(wdcontent_len)\n",
    "print fdist1                        #<FreqDist with 19317 samples and 260819 outcomes>\n",
    "vocabulary1 = fdist1.keys()\n",
    "print vocabulary1[:10]\n",
    "fdist1[100]                     #906\n",
    "fdist1.plot(250,cumulative=True)"
   ]
  },
  {
   "cell_type": "code",
   "execution_count": 31,
   "metadata": {
    "collapsed": false
   },
   "outputs": [
    {
     "name": "stdout",
     "output_type": "stream",
     "text": [
      "** content 长度（词数）\n",
      "max = 2787， min = 1, mean = 80, median = 40\n"
     ]
    },
    {
     "data": {
      "image/png": "[encoded data removed]",
      "text/plain": [
       "<matplotlib.figure.Figure at 0x7fb1162457d0>"
      ]
     },
     "metadata": {},
     "output_type": "display_data"
    }
   ],
   "source": [
    "wdcontent_len = df_train_content.wdcontent_len.values\n",
    "max_len = max(wdcontent_len)\n",
    "min_len = min(wdcontent_len)\n",
    "mean_len = np.mean(wdcontent_len)\n",
    "median_len = np.median(wdcontent_len)\n",
    "print '** content 长度（词数）'\n",
    "print 'max = %d， min = %d, mean = %d, median = %d' % (max_len, min_len, mean_len, median_len)\n",
    "\n",
    "plt.hist(wdcontent_len, bins = 200, range=(0, 200))\n",
    "plt.xlabel('wdcontent_len')\n",
    "plt.ylabel('question_number')\n",
    "plt.grid()\n",
    "plt.show()"
   ]
  },
  {
   "cell_type": "markdown",
   "metadata": {},
   "source": [
    "## baseline\n",
    "**先使用 title 数据来做一各 baseline 模型。**\n",
    "\n",
    "使用 attention-bigru， max_len 取值为 20.\n",
    "\n",
    "**使用 content 数据训练 baseline2**\n",
    "\n",
    "使用 attention-bigru，max_len 取值 100\n",
    "\n"
   ]
  }
 ],
 "metadata": {
  "anaconda-cloud": {},
  "kernelspec": {
   "display_name": "Python [conda root]",
   "language": "python",
   "name": "conda-root-py"
  },
  "language_info": {
   "codemirror_mode": {
    "name": "ipython",
    "version": 2
   },
   "file_extension": ".py",
   "mimetype": "text/x-python",
   "name": "python",
   "nbconvert_exporter": "python",
   "pygments_lexer": "ipython2",
   "version": "2.7.12"
  }
 },
 "nbformat": 4,
 "nbformat_minor": 1
}
